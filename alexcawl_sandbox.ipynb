{
 "cells": [
  {
   "cell_type": "code",
   "execution_count": 1,
   "metadata": {
    "collapsed": true,
    "ExecuteTime": {
     "start_time": "2023-12-08T17:47:21.828641Z",
     "end_time": "2023-12-08T17:47:25.644626Z"
    }
   },
   "outputs": [
    {
     "name": "stdout",
     "output_type": "stream",
     "text": [
      "Execution time for 'load_from_csv' took 0.21458697319030762 seconds\n",
      "Execution time for 'load_from_csv' took 0.5156514644622803 seconds\n",
      "Execution time for 'load_from_csv' took 0.7814102172851562 seconds\n",
      "Execution time for 'load_from_csv' took 0.9302568435668945 seconds\n",
      "Execution time for 'load_from_csv' took 1.064847469329834 seconds\n"
     ]
    },
    {
     "data": {
      "text/plain": "602808"
     },
     "execution_count": 1,
     "metadata": {},
     "output_type": "execute_result"
    }
   ],
   "source": [
    "import pandas as pd\n",
    "\n",
    "from labs.lab_3.util.loader import load_from_multiple_sources_merged\n",
    "from labs.lab_3.util.constants import TRAIN_FILES, PATH_TRAIN\n",
    "\n",
    "training: pd.DataFrame = load_from_multiple_sources_merged(PATH_TRAIN, TRAIN_FILES)\n",
    "len(training)"
   ]
  },
  {
   "cell_type": "code",
   "execution_count": 2,
   "outputs": [
    {
     "name": "stdout",
     "output_type": "stream",
     "text": [
      "size of [1] = 529\n",
      "size of [2] = 472\n",
      "size of [3] = 459\n",
      "size of [4] = 479\n",
      "size of [5] = 489\n",
      "size of [6] = 521\n",
      "size of [7] = 485\n",
      "size of [8] = 476\n",
      "size of [9] = 480\n",
      "size of [10] = 518\n",
      "size of [11] = 463\n",
      "size of [12] = 472\n",
      "size of [13] = 502\n",
      "size of [14] = 475\n",
      "size of [15] = 493\n",
      "size of [16] = 490\n",
      "size of [17] = 477\n",
      "size of [18] = 464\n",
      "size of [19] = 477\n",
      "size of [20] = 474\n",
      "size of [21] = 536\n",
      "size of [22] = 483\n",
      "size of [23] = 468\n",
      "size of [24] = 591626\n"
     ]
    }
   ],
   "source": [
    "for key in set(list(training[\"H Local\"])):\n",
    "    df = training[training['H Local'] == key]\n",
    "    print(f\"size of [{key}] = {len(df)}\")"
   ],
   "metadata": {
    "collapsed": false,
    "ExecuteTime": {
     "start_time": "2023-12-08T17:47:25.687588Z",
     "end_time": "2023-12-08T17:47:25.778987Z"
    }
   }
  },
  {
   "cell_type": "code",
   "execution_count": 3,
   "outputs": [
    {
     "name": "stdout",
     "output_type": "stream",
     "text": [
      "Execution time for 'load_from_csv' took 0.0026412010192871094 seconds\n",
      "Execution time for 'load_from_csv' took 0.0018482208251953125 seconds\n",
      "Execution time for 'load_from_csv' took 0.0019371509552001953 seconds\n",
      "Execution time for 'load_from_csv' took 0.002126455307006836 seconds\n",
      "Execution time for 'load_from_csv' took 0.00177001953125 seconds\n",
      "Execution time for 'load_from_csv' took 0.0016906261444091797 seconds\n",
      "Execution time for 'load_from_csv' took 0.0016937255859375 seconds\n",
      "Execution time for 'load_from_csv' took 0.002066373825073242 seconds\n",
      "Execution time for 'load_from_csv' took 0.0016794204711914062 seconds\n",
      "Execution time for 'load_from_csv' took 0.002733469009399414 seconds\n",
      "Execution time for 'load_from_csv' took 0.003023386001586914 seconds\n"
     ]
    },
    {
     "data": {
      "text/plain": "1089"
     },
     "execution_count": 3,
     "metadata": {},
     "output_type": "execute_result"
    }
   ],
   "source": [
    "from labs.lab_3.util.constants import TEST_FILES, PATH_TEST\n",
    "\n",
    "testing: pd.DataFrame = load_from_multiple_sources_merged(PATH_TEST, TEST_FILES)\n",
    "len(testing)"
   ],
   "metadata": {
    "collapsed": false,
    "ExecuteTime": {
     "start_time": "2023-12-08T17:47:25.780561Z",
     "end_time": "2023-12-08T17:47:25.821428Z"
    }
   }
  },
  {
   "cell_type": "code",
   "execution_count": 4,
   "outputs": [
    {
     "name": "stdout",
     "output_type": "stream",
     "text": [
      "Collecting catboost\r\n",
      "  Downloading catboost-1.2.2-cp310-cp310-manylinux2014_x86_64.whl (98.7 MB)\r\n",
      "\u001B[2K     \u001B[90m━━━━━━━━━━━━━━━━━━━━━━━━━━━━━━━━━━━━━━━━\u001B[0m \u001B[32m98.7/98.7 MB\u001B[0m \u001B[31m4.3 MB/s\u001B[0m eta \u001B[36m0:00:00\u001B[0m00:01\u001B[0m00:01\u001B[0m\r\n",
      "\u001B[?25hRequirement already satisfied: pandas>=0.24 in ./venv/lib/python3.10/site-packages (from catboost) (2.1.1)\r\n",
      "Collecting graphviz\r\n",
      "  Downloading graphviz-0.20.1-py3-none-any.whl (47 kB)\r\n",
      "\u001B[2K     \u001B[90m━━━━━━━━━━━━━━━━━━━━━━━━━━━━━━━━━━━━━━━\u001B[0m \u001B[32m47.0/47.0 kB\u001B[0m \u001B[31m493.5 kB/s\u001B[0m eta \u001B[36m0:00:00\u001B[0ma \u001B[36m0:00:01\u001B[0m\r\n",
      "\u001B[?25hRequirement already satisfied: numpy>=1.16.0 in ./venv/lib/python3.10/site-packages (from catboost) (1.26.0)\r\n",
      "Requirement already satisfied: six in ./venv/lib/python3.10/site-packages (from catboost) (1.16.0)\r\n",
      "Requirement already satisfied: scipy in ./venv/lib/python3.10/site-packages (from catboost) (1.11.3)\r\n",
      "Collecting plotly\r\n",
      "  Downloading plotly-5.18.0-py3-none-any.whl (15.6 MB)\r\n",
      "\u001B[2K     \u001B[90m━━━━━━━━━━━━━━━━━━━━━━━━━━━━━━━━━━━━━━━━\u001B[0m \u001B[32m15.6/15.6 MB\u001B[0m \u001B[31m6.0 MB/s\u001B[0m eta \u001B[36m0:00:00\u001B[0m00:01\u001B[0m00:01\u001B[0m\r\n",
      "\u001B[?25hRequirement already satisfied: matplotlib in ./venv/lib/python3.10/site-packages (from catboost) (3.8.0)\r\n",
      "Requirement already satisfied: pytz>=2020.1 in ./venv/lib/python3.10/site-packages (from pandas>=0.24->catboost) (2023.3.post1)\r\n",
      "Requirement already satisfied: python-dateutil>=2.8.2 in ./venv/lib/python3.10/site-packages (from pandas>=0.24->catboost) (2.8.2)\r\n",
      "Requirement already satisfied: tzdata>=2022.1 in ./venv/lib/python3.10/site-packages (from pandas>=0.24->catboost) (2023.3)\r\n",
      "Requirement already satisfied: kiwisolver>=1.0.1 in ./venv/lib/python3.10/site-packages (from matplotlib->catboost) (1.4.5)\r\n",
      "Requirement already satisfied: pyparsing>=2.3.1 in ./venv/lib/python3.10/site-packages (from matplotlib->catboost) (3.1.1)\r\n",
      "Requirement already satisfied: pillow>=6.2.0 in ./venv/lib/python3.10/site-packages (from matplotlib->catboost) (10.0.1)\r\n",
      "Requirement already satisfied: fonttools>=4.22.0 in ./venv/lib/python3.10/site-packages (from matplotlib->catboost) (4.43.1)\r\n",
      "Requirement already satisfied: packaging>=20.0 in ./venv/lib/python3.10/site-packages (from matplotlib->catboost) (23.2)\r\n",
      "Requirement already satisfied: contourpy>=1.0.1 in ./venv/lib/python3.10/site-packages (from matplotlib->catboost) (1.1.1)\r\n",
      "Requirement already satisfied: cycler>=0.10 in ./venv/lib/python3.10/site-packages (from matplotlib->catboost) (0.12.1)\r\n",
      "Collecting tenacity>=6.2.0\r\n",
      "  Downloading tenacity-8.2.3-py3-none-any.whl (24 kB)\r\n",
      "Installing collected packages: tenacity, graphviz, plotly, catboost\r\n",
      "Successfully installed catboost-1.2.2 graphviz-0.20.1 plotly-5.18.0 tenacity-8.2.3\r\n",
      "\r\n",
      "\u001B[1m[\u001B[0m\u001B[34;49mnotice\u001B[0m\u001B[1;39;49m]\u001B[0m\u001B[39;49m A new release of pip available: \u001B[0m\u001B[31;49m22.3.1\u001B[0m\u001B[39;49m -> \u001B[0m\u001B[32;49m23.3.1\u001B[0m\r\n",
      "\u001B[1m[\u001B[0m\u001B[34;49mnotice\u001B[0m\u001B[1;39;49m]\u001B[0m\u001B[39;49m To update, run: \u001B[0m\u001B[32;49mpip install --upgrade pip\u001B[0m\r\n"
     ]
    }
   ],
   "source": [
    "!pip install catboost"
   ],
   "metadata": {
    "collapsed": false,
    "ExecuteTime": {
     "start_time": "2023-12-08T17:52:05.258427Z",
     "end_time": "2023-12-08T17:52:35.997402Z"
    }
   }
  },
  {
   "cell_type": "code",
   "execution_count": null,
   "outputs": [],
   "source": [
    "from catboost import CatBoostRegressor\n",
    "\n",
    "model = CatBoostRegressor(objective='Poisson')"
   ],
   "metadata": {
    "collapsed": false
   }
  },
  {
   "cell_type": "code",
   "execution_count": null,
   "outputs": [],
   "source": [],
   "metadata": {
    "collapsed": false
   }
  }
 ],
 "metadata": {
  "kernelspec": {
   "display_name": "Python 3",
   "language": "python",
   "name": "python3"
  },
  "language_info": {
   "codemirror_mode": {
    "name": "ipython",
    "version": 2
   },
   "file_extension": ".py",
   "mimetype": "text/x-python",
   "name": "python",
   "nbconvert_exporter": "python",
   "pygments_lexer": "ipython2",
   "version": "2.7.6"
  }
 },
 "nbformat": 4,
 "nbformat_minor": 0
}
