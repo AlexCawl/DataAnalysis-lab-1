{
 "cells": [
  {
   "cell_type": "code",
   "execution_count": 1,
   "metadata": {
    "collapsed": true,
    "ExecuteTime": {
     "start_time": "2023-12-08T21:50:07.048631Z",
     "end_time": "2023-12-08T21:50:11.473485Z"
    }
   },
   "outputs": [
    {
     "name": "stdout",
     "output_type": "stream",
     "text": [
      "Execution time for 'load_from_csv' took 0.40285658836364746 seconds\n",
      "Execution time for 'load_from_csv' took 0.6478269100189209 seconds\n",
      "Execution time for 'load_from_csv' took 0.8318893909454346 seconds\n",
      "Execution time for 'load_from_csv' took 0.9764974117279053 seconds\n",
      "Execution time for 'load_from_csv' took 1.213167667388916 seconds\n"
     ]
    },
    {
     "data": {
      "text/plain": "602808"
     },
     "execution_count": 1,
     "metadata": {},
     "output_type": "execute_result"
    }
   ],
   "source": [
    "import pandas as pd\n",
    "\n",
    "from labs.lab_3.util.loader import load_from_multiple_sources_merged\n",
    "from labs.lab_3.util.constants import TRAIN_FILES, PATH_TRAIN\n",
    "\n",
    "training: pd.DataFrame = load_from_multiple_sources_merged(PATH_TRAIN, TRAIN_FILES)\n",
    "len(training)"
   ]
  },
  {
   "cell_type": "code",
   "execution_count": 2,
   "outputs": [
    {
     "name": "stdout",
     "output_type": "stream",
     "text": [
      "size of [1] = 529\n",
      "size of [2] = 472\n",
      "size of [3] = 459\n",
      "size of [4] = 479\n",
      "size of [5] = 489\n",
      "size of [6] = 521\n",
      "size of [7] = 485\n",
      "size of [8] = 476\n",
      "size of [9] = 480\n",
      "size of [10] = 518\n",
      "size of [11] = 463\n",
      "size of [12] = 472\n",
      "size of [13] = 502\n",
      "size of [14] = 475\n",
      "size of [15] = 493\n",
      "size of [16] = 490\n",
      "size of [17] = 477\n",
      "size of [18] = 464\n",
      "size of [19] = 477\n",
      "size of [20] = 474\n",
      "size of [21] = 536\n",
      "size of [22] = 483\n",
      "size of [23] = 468\n",
      "size of [24] = 591626\n"
     ]
    }
   ],
   "source": [
    "for key in set(list(training[\"H Local\"])):\n",
    "    df = training[training['H Local'] == key]\n",
    "    print(f\"size of [{key}] = {len(df)}\")"
   ],
   "metadata": {
    "collapsed": false,
    "ExecuteTime": {
     "start_time": "2023-12-08T21:50:11.522863Z",
     "end_time": "2023-12-08T21:50:11.620217Z"
    }
   }
  },
  {
   "cell_type": "code",
   "execution_count": 3,
   "outputs": [
    {
     "name": "stdout",
     "output_type": "stream",
     "text": [
      "Execution time for 'load_from_csv' took 0.0036962032318115234 seconds\n",
      "Execution time for 'load_from_csv' took 0.003795623779296875 seconds\n",
      "Execution time for 'load_from_csv' took 0.003177642822265625 seconds\n",
      "Execution time for 'load_from_csv' took 0.0032804012298583984 seconds\n",
      "Execution time for 'load_from_csv' took 0.002767801284790039 seconds\n",
      "Execution time for 'load_from_csv' took 0.002275705337524414 seconds\n",
      "Execution time for 'load_from_csv' took 0.0026900768280029297 seconds\n",
      "Execution time for 'load_from_csv' took 0.0017066001892089844 seconds\n",
      "Execution time for 'load_from_csv' took 0.001646280288696289 seconds\n",
      "Execution time for 'load_from_csv' took 0.0017023086547851562 seconds\n",
      "Execution time for 'load_from_csv' took 0.001638174057006836 seconds\n"
     ]
    },
    {
     "data": {
      "text/plain": "1089"
     },
     "execution_count": 3,
     "metadata": {},
     "output_type": "execute_result"
    }
   ],
   "source": [
    "from labs.lab_3.util.constants import TEST_FILES, PATH_TEST\n",
    "\n",
    "testing: pd.DataFrame = load_from_multiple_sources_merged(PATH_TEST, TEST_FILES)\n",
    "len(testing)"
   ],
   "metadata": {
    "collapsed": false,
    "ExecuteTime": {
     "start_time": "2023-12-08T21:50:11.621512Z",
     "end_time": "2023-12-08T21:50:11.680857Z"
    }
   }
  },
  {
   "cell_type": "code",
   "execution_count": 4,
   "outputs": [
    {
     "name": "stdout",
     "output_type": "stream",
     "text": [
      "Requirement already satisfied: catboost in ./venv/lib/python3.10/site-packages (1.2.2)\r\n",
      "Requirement already satisfied: numpy>=1.16.0 in ./venv/lib/python3.10/site-packages (from catboost) (1.26.0)\r\n",
      "Requirement already satisfied: scipy in ./venv/lib/python3.10/site-packages (from catboost) (1.11.3)\r\n",
      "Requirement already satisfied: graphviz in ./venv/lib/python3.10/site-packages (from catboost) (0.20.1)\r\n",
      "Requirement already satisfied: matplotlib in ./venv/lib/python3.10/site-packages (from catboost) (3.8.0)\r\n",
      "Requirement already satisfied: plotly in ./venv/lib/python3.10/site-packages (from catboost) (5.18.0)\r\n",
      "Requirement already satisfied: six in ./venv/lib/python3.10/site-packages (from catboost) (1.16.0)\r\n",
      "Requirement already satisfied: pandas>=0.24 in ./venv/lib/python3.10/site-packages (from catboost) (2.1.1)\r\n",
      "Requirement already satisfied: tzdata>=2022.1 in ./venv/lib/python3.10/site-packages (from pandas>=0.24->catboost) (2023.3)\r\n",
      "Requirement already satisfied: pytz>=2020.1 in ./venv/lib/python3.10/site-packages (from pandas>=0.24->catboost) (2023.3.post1)\r\n",
      "Requirement already satisfied: python-dateutil>=2.8.2 in ./venv/lib/python3.10/site-packages (from pandas>=0.24->catboost) (2.8.2)\r\n",
      "Requirement already satisfied: packaging>=20.0 in ./venv/lib/python3.10/site-packages (from matplotlib->catboost) (23.2)\r\n",
      "Requirement already satisfied: cycler>=0.10 in ./venv/lib/python3.10/site-packages (from matplotlib->catboost) (0.12.1)\r\n",
      "Requirement already satisfied: contourpy>=1.0.1 in ./venv/lib/python3.10/site-packages (from matplotlib->catboost) (1.1.1)\r\n",
      "Requirement already satisfied: pillow>=6.2.0 in ./venv/lib/python3.10/site-packages (from matplotlib->catboost) (10.0.1)\r\n",
      "Requirement already satisfied: pyparsing>=2.3.1 in ./venv/lib/python3.10/site-packages (from matplotlib->catboost) (3.1.1)\r\n",
      "Requirement already satisfied: kiwisolver>=1.0.1 in ./venv/lib/python3.10/site-packages (from matplotlib->catboost) (1.4.5)\r\n",
      "Requirement already satisfied: fonttools>=4.22.0 in ./venv/lib/python3.10/site-packages (from matplotlib->catboost) (4.43.1)\r\n",
      "Requirement already satisfied: tenacity>=6.2.0 in ./venv/lib/python3.10/site-packages (from plotly->catboost) (8.2.3)\r\n",
      "\r\n",
      "\u001B[1m[\u001B[0m\u001B[34;49mnotice\u001B[0m\u001B[1;39;49m]\u001B[0m\u001B[39;49m A new release of pip available: \u001B[0m\u001B[31;49m22.3.1\u001B[0m\u001B[39;49m -> \u001B[0m\u001B[32;49m23.3.1\u001B[0m\r\n",
      "\u001B[1m[\u001B[0m\u001B[34;49mnotice\u001B[0m\u001B[1;39;49m]\u001B[0m\u001B[39;49m To update, run: \u001B[0m\u001B[32;49mpip install --upgrade pip\u001B[0m\r\n"
     ]
    }
   ],
   "source": [
    "!pip install catboost"
   ],
   "metadata": {
    "collapsed": false,
    "ExecuteTime": {
     "start_time": "2023-12-08T21:50:11.682708Z",
     "end_time": "2023-12-08T21:50:13.864368Z"
    }
   }
  },
  {
   "cell_type": "code",
   "execution_count": 5,
   "outputs": [
    {
     "data": {
      "text/plain": "591626"
     },
     "execution_count": 5,
     "metadata": {},
     "output_type": "execute_result"
    }
   ],
   "source": [
    "from catboost import CatBoostRegressor\n",
    "from sklearn.metrics import mean_absolute_error, mean_squared_error, r2_score\n",
    "\n",
    "# Разделение данных на обучающую выборку\n",
    "X_train = training[training['H Local'] == 24].drop(columns=['Target Variable'], inplace=False)\n",
    "y_train = training[training['H Local'] == 24]['Target Variable']\n",
    "\n",
    "len(X_train)"
   ],
   "metadata": {
    "collapsed": false,
    "ExecuteTime": {
     "start_time": "2023-12-08T21:50:13.868078Z",
     "end_time": "2023-12-08T21:50:14.610785Z"
    }
   }
  },
  {
   "cell_type": "code",
   "execution_count": 6,
   "outputs": [
    {
     "data": {
      "text/plain": "415"
     },
     "execution_count": 6,
     "metadata": {},
     "output_type": "execute_result"
    }
   ],
   "source": [
    "# Разделение данных на тестовую выборку\n",
    "X_test = testing[testing['H Local'] == 24].drop(columns=['Target Variable'], inplace=False)\n",
    "y_test = testing[testing['H Local'] == 24]['Target Variable']\n",
    "\n",
    "len(X_test)"
   ],
   "metadata": {
    "collapsed": false,
    "ExecuteTime": {
     "start_time": "2023-12-08T21:50:14.613610Z",
     "end_time": "2023-12-08T21:50:14.618916Z"
    }
   }
  },
  {
   "cell_type": "markdown",
   "source": [
    "# Создание модели CatBoost\n",
    "model = CatBoostRegressor(iterations=1000, learning_rate=0.1, depth=10)\n",
    "\n",
    "# Обучение модели\n",
    "model.fit(X_train, y_train, verbose=100)\n",
    "\n",
    "# Оценка модели\n",
    "predictions = model.predict(X_test)\n",
    "\n",
    "# Расчёт метрик\n",
    "mae = mean_absolute_error(y_test, predictions)\n",
    "mse = mean_squared_error(y_test, predictions)\n",
    "rmse = mean_squared_error(y_test, predictions, squared=False)\n",
    "r2 = r2_score(y_test, predictions)\n",
    "\n",
    "# Вывод результатов\n",
    "print(f\"Mean Absolute Error (MAE): {mae}\")\n",
    "print(f\"Mean Squared Error (MSE): {mse}\")\n",
    "print(f\"Root Mean Squared Error (RMSE): {rmse}\")\n",
    "print(f\"R^2 Score: {r2}\")"
   ],
   "metadata": {
    "collapsed": false
   }
  },
  {
   "cell_type": "code",
   "execution_count": 7,
   "outputs": [
    {
     "data": {
      "text/plain": "{'TRAIN_R2': 0.9610750205387286}"
     },
     "execution_count": 7,
     "metadata": {},
     "output_type": "execute_result"
    }
   ],
   "source": [
    "from labs.lab_3.cat_boost_regression.CatBoostRegressionModel import CatBoostRegressionModel\n",
    "\n",
    "regressor = CatBoostRegressionModel(\"cat\")\n",
    "regressor.train(x_train=X_train, y_train=y_train)\n",
    "regressor.get_info()"
   ],
   "metadata": {
    "collapsed": false,
    "ExecuteTime": {
     "start_time": "2023-12-08T21:50:14.620974Z",
     "end_time": "2023-12-08T21:52:50.183573Z"
    }
   }
  },
  {
   "cell_type": "code",
   "execution_count": 8,
   "outputs": [
    {
     "data": {
      "text/plain": "{'TRAIN_R2': 0.9610750205387286,\n 'MAE': 13.806059293994108,\n 'MSE': 1908.377351262023,\n 'RMSE': 43.68497855398378,\n 'TEST_R2': 0.6808934798760132}"
     },
     "execution_count": 8,
     "metadata": {},
     "output_type": "execute_result"
    }
   ],
   "source": [
    "regressor.test(x_test=X_test, y_test=y_test)\n",
    "regressor.get_info()"
   ],
   "metadata": {
    "collapsed": false,
    "ExecuteTime": {
     "start_time": "2023-12-08T21:52:50.183349Z",
     "end_time": "2023-12-08T21:52:50.183924Z"
    }
   }
  }
 ],
 "metadata": {
  "kernelspec": {
   "display_name": "Python 3",
   "language": "python",
   "name": "python3"
  },
  "language_info": {
   "codemirror_mode": {
    "name": "ipython",
    "version": 2
   },
   "file_extension": ".py",
   "mimetype": "text/x-python",
   "name": "python",
   "nbconvert_exporter": "python",
   "pygments_lexer": "ipython2",
   "version": "2.7.6"
  }
 },
 "nbformat": 4,
 "nbformat_minor": 0
}
