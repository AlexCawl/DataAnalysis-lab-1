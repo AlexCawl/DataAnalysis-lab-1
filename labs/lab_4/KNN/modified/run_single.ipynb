{
 "cells": [
  {
   "cell_type": "markdown",
   "metadata": {},
   "source": [
    "# Run single CBF with bias with specified dataset and parameters"
   ]
  },
  {
   "cell_type": "markdown",
   "metadata": {},
   "source": [
    "#### Load libs"
   ]
  },
  {
   "cell_type": "code",
   "execution_count": 1,
   "metadata": {
    "pycharm": {
     "is_executing": false,
     "name": "#%%\n"
    },
    "ExecuteTime": {
     "end_time": "2023-12-20T19:21:38.780757Z",
     "start_time": "2023-12-20T19:21:38.201917Z"
    }
   },
   "outputs": [],
   "source": [
    "import numpy as np\n",
    "import pandas as pd\n",
    "import matplotlib.pyplot as pyplot\n",
    "%matplotlib inline\n",
    "import scipy.sparse as sps"
   ]
  },
  {
   "cell_type": "code",
   "execution_count": 2,
   "metadata": {
    "pycharm": {
     "is_executing": false
    },
    "ExecuteTime": {
     "end_time": "2023-12-20T19:21:38.795531Z",
     "start_time": "2023-12-20T19:21:38.774531Z"
    }
   },
   "outputs": [],
   "source": [
    "from Data_manager.LastFMHetrec2011.LastFMHetrec2011Reader import LastFMHetrec2011Reader\n",
    "import multiprocessing, traceback, os\n",
    "from functools import  partial\n",
    "# TODO ADDED\n",
    "# import skopt\n",
    "import datetime, time\n",
    "# TODO /ADDED\n",
    "\n",
    "from ParameterTuning.SearchAbstractClass import SearchInputRecommenderParameters\n",
    "from Base.Evaluation.Evaluator import EvaluatorHoldout\n",
    "from Data_manager.DataSplitter_leave_k_out import DataSplitter_leave_k_out\n",
    "\n",
    "from KNN.ItemKNNCBFRecommender import ItemKNNCBFRecommender\n"
   ]
  },
  {
   "cell_type": "code",
   "execution_count": 3,
   "metadata": {
    "pycharm": {
     "is_executing": false
    },
    "ExecuteTime": {
     "end_time": "2023-12-20T19:21:38.828243Z",
     "start_time": "2023-12-20T19:21:38.813166Z"
    }
   },
   "outputs": [],
   "source": [
    "dataset_class = LastFMHetrec2011Reader # Movielens10MReader # CiteULike_aReader\n",
    "feature_weighting = \"none\" # \"TF-IDF\" # \"BM25\" # \n",
    "allow_bias_ICM = False\n",
    "ICM_bias = None # None or float"
   ]
  },
  {
   "cell_type": "code",
   "execution_count": 4,
   "metadata": {
    "pycharm": {
     "is_executing": false
    },
    "ExecuteTime": {
     "end_time": "2023-12-20T19:21:38.885413Z",
     "start_time": "2023-12-20T19:21:38.826496Z"
    }
   },
   "outputs": [
    {
     "name": "stdout",
     "output_type": "stream",
     "text": [
      "DataSplitter_leave_k_out: Cold users not allowed\n",
      "DataSplitter_k_fold for DataReader: LastFMHetrec2011\n",
      "\t Num items: 17632\n",
      "\t Num users: 1883\n",
      " \t Train interactions: 89058, density: 2.68E-03\n",
      " \t Test interactions: 1883, density: 5.67E-05\n",
      "\t Validation interactions: 1883, density: 5.67E-05\n",
      "\n",
      "\n",
      "\n",
      "\t Statistics for ICM_tags: n_features 9749, feature occurrences 108437, density: 6.31E-04\n",
      "\n",
      "\n",
      "DataSplitter_k_fold: Done.\n",
      "Available ICM:  ['ICM_tags']\n"
     ]
    }
   ],
   "source": [
    "similarity_type_list = [\"cosine\"]\n",
    "\n",
    "output_folder = \"result_experiments/{}\".format(dataset_class.DATASET_SUBFOLDER)\n",
    "if allow_bias_ICM:\n",
    "    output_folder += \"ICM_bias/\"\n",
    "else:\n",
    "    output_folder += \"ICM_original/\"\n",
    "output_folder += \"feature_weighting_\"+feature_weighting+\"/\"\n",
    "\n",
    "dataSplitter = DataSplitter_leave_k_out(dataset_class(), k_value=1, validation_set=True)\n",
    "dataSplitter.load_data()\n",
    "\n",
    "all_available_ICM_names = dataSplitter.get_loaded_ICM_names()\n",
    "\n",
    "print(\"Available ICM: \", all_available_ICM_names)\n",
    "\n",
    "ICM_name = all_available_ICM_names[0]\n"
   ]
  },
  {
   "cell_type": "code",
   "execution_count": 5,
   "metadata": {
    "pycharm": {
     "is_executing": false
    },
    "ExecuteTime": {
     "end_time": "2023-12-20T19:21:38.900756Z",
     "start_time": "2023-12-20T19:21:38.871159Z"
    }
   },
   "outputs": [
    {
     "name": "stdout",
     "output_type": "stream",
     "text": [
      "Processing ICM: 'ICM_tags'\n",
      "DataSplitter_leave_k_out: Cold users not allowed\n",
      "DataSplitter_k_fold for DataReader: LastFMHetrec2011\n",
      "\t Num items: 17632\n",
      "\t Num users: 1883\n",
      " \t Train interactions: 89058, density: 2.68E-03\n",
      " \t Test interactions: 1883, density: 5.67E-05\n",
      "\t Validation interactions: 1883, density: 5.67E-05\n",
      "\n",
      "\n",
      "\n",
      "\t Statistics for ICM_tags: n_features 9749, feature occurrences 108437, density: 6.31E-04\n",
      "\n",
      "\n",
      "DataSplitter_k_fold: Done.\n"
     ]
    }
   ],
   "source": [
    "print(\"Processing ICM: '{}'\".format(ICM_name))\n",
    "\n",
    "dataset_object = dataset_class(ICM_to_load_list = [ICM_name])\n",
    "\n",
    "dataSplitter = DataSplitter_leave_k_out(dataset_object, k_value=1, validation_set=True)\n",
    "dataSplitter.load_data()\n",
    "\n",
    "ICM_object = dataSplitter.get_ICM_from_name(ICM_name)"
   ]
  },
  {
   "cell_type": "code",
   "execution_count": 6,
   "metadata": {
    "pycharm": {
     "is_executing": false
    },
    "ExecuteTime": {
     "end_time": "2023-12-20T19:21:38.901010Z",
     "start_time": "2023-12-20T19:21:38.890397Z"
    }
   },
   "outputs": [
    {
     "data": {
      "text/plain": "array([  1.,   2.,   3.,   4.,   5.,   6.,   7.,   8.,   9.,  10.,  11.,\n        12.,  13.,  14.,  15.,  16.,  17.,  18.,  19.,  20.,  21.,  22.,\n        23.,  24.,  25.,  26.,  27.,  28.,  29.,  30.,  31.,  32.,  33.,\n        34.,  35.,  36.,  37.,  38.,  39.,  40.,  41.,  42.,  43.,  44.,\n        45.,  46.,  47.,  48.,  49.,  50.,  51.,  52.,  53.,  54.,  55.,\n        56.,  58.,  59.,  60.,  62.,  63.,  64.,  65.,  67.,  68.,  73.,\n        78.,  83.,  85.,  87.,  99., 108.])"
     },
     "execution_count": 6,
     "metadata": {},
     "output_type": "execute_result"
    }
   ],
   "source": [
    "ICM_object\n",
    "np.unique(ICM_object.data) # NB: 0 always included, cause ICM is sparse"
   ]
  },
  {
   "cell_type": "code",
   "execution_count": 7,
   "metadata": {
    "pycharm": {
     "is_executing": false
    },
    "ExecuteTime": {
     "end_time": "2023-12-20T19:21:38.911374Z",
     "start_time": "2023-12-20T19:21:38.897060Z"
    }
   },
   "outputs": [],
   "source": [
    "URM_train, URM_validation, URM_test = dataSplitter.get_holdout_split()"
   ]
  },
  {
   "cell_type": "code",
   "execution_count": 8,
   "metadata": {
    "pycharm": {
     "is_executing": false
    },
    "ExecuteTime": {
     "end_time": "2023-12-20T19:21:38.929977Z",
     "start_time": "2023-12-20T19:21:38.903585Z"
    }
   },
   "outputs": [],
   "source": [
    "evaluator_validation = EvaluatorHoldout(URM_validation, cutoff_list=[10])\n",
    "evaluator_test = EvaluatorHoldout(URM_test, cutoff_list=[5, 10, 15, 20, 25, 30])"
   ]
  },
  {
   "cell_type": "code",
   "execution_count": 9,
   "metadata": {
    "pycharm": {
     "is_executing": false
    },
    "ExecuteTime": {
     "end_time": "2023-12-20T19:21:38.930469Z",
     "start_time": "2023-12-20T19:21:38.912423Z"
    }
   },
   "outputs": [],
   "source": [
    "recommender_class = ItemKNNCBFRecommender\n",
    "recommender_parameters = SearchInputRecommenderParameters(\n",
    "    CONSTRUCTOR_POSITIONAL_ARGS = [ICM_object, URM_train],\n",
    "    CONSTRUCTOR_KEYWORD_ARGS = {},\n",
    "    FIT_POSITIONAL_ARGS = [],\n",
    "    FIT_KEYWORD_ARGS = {\n",
    "        'topK': 50,\n",
    "        'shrink': 100, \n",
    "        'similarity': 'cosine',\n",
    "        'normalize': True,\n",
    "        'feature_weighting': feature_weighting,\n",
    "        'ICM_bias': ICM_bias,\n",
    "        #**similarity_args\n",
    "    }\n",
    ")"
   ]
  },
  {
   "cell_type": "code",
   "execution_count": 10,
   "metadata": {
    "pycharm": {
     "is_executing": false
    },
    "ExecuteTime": {
     "end_time": "2023-12-20T19:21:41.508130Z",
     "start_time": "2023-12-20T19:21:38.915343Z"
    }
   },
   "outputs": [
    {
     "name": "stdout",
     "output_type": "stream",
     "text": [
      "Unable to load Cython Compute_Similarity, reverting to Python\n",
      "Similarity column 17600 ( 100 % ), 7123.94 column/sec, elapsed time 0.04 min\n"
     ]
    }
   ],
   "source": [
    "start_time = time.time()\n",
    "\n",
    "# Construct a new recommender instance\n",
    "recommender_instance = recommender_class(*recommender_parameters.CONSTRUCTOR_POSITIONAL_ARGS,\n",
    "                                         **recommender_parameters.CONSTRUCTOR_KEYWORD_ARGS)\n",
    "\n",
    "recommender_instance.fit(*recommender_parameters.FIT_POSITIONAL_ARGS,\n",
    "                         **recommender_parameters.FIT_KEYWORD_ARGS)\n",
    "#                          **current_fit_parameters,\n",
    "#                          **self.hyperparams_single_value)\n",
    "\n",
    "train_time = time.time() - start_time\n",
    "start_time = time.time()"
   ]
  },
  {
   "cell_type": "code",
   "execution_count": 11,
   "metadata": {
    "ExecuteTime": {
     "end_time": "2023-12-20T19:21:42.230298Z",
     "start_time": "2023-12-20T19:21:41.508414Z"
    }
   },
   "outputs": [
    {
     "name": "stderr",
     "output_type": "stream",
     "text": [
      "/Users/astronely/PycharmProjects/RecSysKNNCosineBias-master/Base/Evaluation/metrics.py:623: RuntimeWarning: overflow encountered in power\n",
      "  return np.sum(np.divide(np.power(2, scores) - 1, np.log(np.arange(scores.shape[0], dtype=np.float32) + 2)),\n",
      "/Library/Frameworks/Python.framework/Versions/3.11/lib/python3.11/site-packages/numpy/core/fromnumeric.py:88: RuntimeWarning: overflow encountered in reduce\n",
      "  return ufunc.reduce(obj, axis, dtype, out, **passkwargs)\n",
      "/Users/astronely/PycharmProjects/RecSysKNNCosineBias-master/Base/Evaluation/metrics.py:617: RuntimeWarning: invalid value encountered in scalar divide\n",
      "  ndcg_ = rank_dcg / ideal_dcg\n"
     ]
    },
    {
     "name": "stdout",
     "output_type": "stream",
     "text": [
      "EvaluatorHoldout: Processed 1883 ( 100.00% ) in 0.71 seconds. Users per second: 2650\n"
     ]
    }
   ],
   "source": [
    "# Evaluate recommender and get results for the first cutoff\n",
    "evaluation_result_dict, evaluation_result_string = evaluator_validation.evaluateRecommender(recommender_instance)\n",
    "# evaluation_result_dict = evaluation_result_dict[list(evaluation_result_dict.keys())[0]]\n",
    "\n",
    "evaluation_time = time.time() - start_time"
   ]
  },
  {
   "cell_type": "code",
   "execution_count": 12,
   "metadata": {
    "ExecuteTime": {
     "end_time": "2023-12-20T19:21:43.505830Z",
     "start_time": "2023-12-20T19:21:42.222861Z"
    }
   },
   "outputs": [
    {
     "name": "stdout",
     "output_type": "stream",
     "text": [
      "EvaluatorHoldout: Processed 1883 ( 100.00% ) in 1.28 seconds. Users per second: 1476\n"
     ]
    }
   ],
   "source": [
    "# Evaluate recommender and get results for the first cutoff\n",
    "test_result_dict, test_result_string = evaluator_test.evaluateRecommender(recommender_instance)\n",
    "# test_result_dict = test_result_dict[list(test_result_dict.keys())[0]]\n",
    "\n",
    "test_time = time.time() - start_time"
   ]
  },
  {
   "cell_type": "code",
   "execution_count": 13,
   "metadata": {
    "ExecuteTime": {
     "end_time": "2023-12-20T19:21:43.510975Z",
     "start_time": "2023-12-20T19:21:43.506335Z"
    }
   },
   "outputs": [
    {
     "name": "stdout",
     "output_type": "stream",
     "text": [
      "Train time:  2.5906448364257812\n",
      "\n",
      "Validation time:  0.7147388458251953\n",
      "Validation result: CUTOFF: 10 - ROC_AUC: 0.0718711, PRECISION: 0.0113648, PRECISION_TEST_LEN: 0.1136484, RECALL: 0.1136484, RECALL_TEST_LEN: 0.1136484, MAP: 0.0471270, MRR: 0.0471270, NDCG: nan, F1: 0.0206634, HIT_RATE: 0.1136484, ARHR: 0.0471270, RMSE: 4514.2963350, NOVELTY: 0.0063937, DIVERSITY_MEAN_INTER_LIST: 0.9735641, DIVERSITY_HERFINDAHL: 0.9973047, COVERAGE_ITEM: 0.1115585, COVERAGE_USER: 1.0000000, DIVERSITY_GINI: 0.3473760, SHANNON_ENTROPY: 9.6665867, \n",
      "\n",
      "Test time:  1.9971048831939697\n",
      "Test result: CUTOFF: 5 - ROC_AUC: 0.0430165, PRECISION: 0.0142326, PRECISION_TEST_LEN: 0.0711630, RECALL: 0.0711630, RECALL_TEST_LEN: 0.0711630, MAP: 0.0390777, MRR: 0.0390777, NDCG: nan, F1: 0.0237210, HIT_RATE: 0.0711630, ARHR: 0.0390777, RMSE: 4195.2981295, NOVELTY: 0.0031138, DIVERSITY_MEAN_INTER_LIST: 0.9819982, DIVERSITY_HERFINDAHL: 0.9962953, COVERAGE_ITEM: 0.0788339, COVERAGE_USER: 1.0000000, DIVERSITY_GINI: 0.3706666, SHANNON_ENTROPY: 9.2462676, \n",
      "CUTOFF: 10 - ROC_AUC: 0.0675636, PRECISION: 0.0109400, PRECISION_TEST_LEN: 0.1093999, RECALL: 0.1093999, RECALL_TEST_LEN: 0.1093999, MAP: 0.0440735, MRR: 0.0440735, NDCG: nan, F1: 0.0198909, HIT_RATE: 0.1093999, ARHR: 0.0440735, RMSE: 4195.2981295, NOVELTY: 0.0063950, DIVERSITY_MEAN_INTER_LIST: 0.9735636, DIVERSITY_HERFINDAHL: 0.9973047, COVERAGE_ITEM: 0.1116720, COVERAGE_USER: 1.0000000, DIVERSITY_GINI: 0.3470256, SHANNON_ENTROPY: 9.6666423, \n",
      "CUTOFF: 15 - ROC_AUC: 0.0855019, PRECISION: 0.0085679, PRECISION_TEST_LEN: 0.1285183, RECALL: 0.1285183, RECALL_TEST_LEN: 0.1285183, MAP: 0.0455821, MRR: 0.0455821, NDCG: nan, F1: 0.0160648, HIT_RATE: 0.1285183, ARHR: 0.0455821, RMSE: 4195.2981295, NOVELTY: 0.0097648, DIVERSITY_MEAN_INTER_LIST: 0.9673993, DIVERSITY_HERFINDAHL: 0.9977924, COVERAGE_ITEM: 0.1379310, COVERAGE_USER: 1.0000000, DIVERSITY_GINI: 0.3309518, SHANNON_ENTROPY: 9.9161742, \n",
      "CUTOFF: 20 - ROC_AUC: 0.0994494, PRECISION: 0.0074881, PRECISION_TEST_LEN: 0.1497610, RECALL: 0.1497610, RECALL_TEST_LEN: 0.1497610, MAP: 0.0467901, MRR: 0.0467901, NDCG: nan, F1: 0.0142630, HIT_RATE: 0.1497610, ARHR: 0.0467901, RMSE: 4195.2981295, NOVELTY: 0.0132062, DIVERSITY_MEAN_INTER_LIST: 0.9627649, DIVERSITY_HERFINDAHL: 0.9981127, COVERAGE_ITEM: 0.1580082, COVERAGE_USER: 1.0000000, DIVERSITY_GINI: 0.3243071, SHANNON_ENTROPY: 10.0979858, \n",
      "CUTOFF: 25 - ROC_AUC: 0.1120995, PRECISION: 0.0068614, PRECISION_TEST_LEN: 0.1715348, RECALL: 0.1715348, RECALL_TEST_LEN: 0.1715348, MAP: 0.0477559, MRR: 0.0477559, NDCG: nan, F1: 0.0131950, HIT_RATE: 0.1715348, ARHR: 0.0477559, RMSE: 4195.2981295, NOVELTY: 0.0166982, DIVERSITY_MEAN_INTER_LIST: 0.9589989, DIVERSITY_HERFINDAHL: 0.9983396, COVERAGE_ITEM: 0.1761003, COVERAGE_USER: 1.0000000, DIVERSITY_GINI: 0.3195682, SHANNON_ENTROPY: 10.2449982, \n",
      "CUTOFF: 30 - ROC_AUC: 0.1231344, PRECISION: 0.0061781, PRECISION_TEST_LEN: 0.1853425, RECALL: 0.1853425, RECALL_TEST_LEN: 0.1853425, MAP: 0.0482441, MRR: 0.0482441, NDCG: nan, F1: 0.0119576, HIT_RATE: 0.1853425, ARHR: 0.0482441, RMSE: 4195.2981295, NOVELTY: 0.0202317, DIVERSITY_MEAN_INTER_LIST: 0.9558124, DIVERSITY_HERFINDAHL: 0.9985102, COVERAGE_ITEM: 0.1932849, COVERAGE_USER: 1.0000000, DIVERSITY_GINI: 0.3142499, SHANNON_ENTROPY: 10.3661871, \n"
     ]
    }
   ],
   "source": [
    "print('Train time: ', train_time)\n",
    "print()\n",
    "print('Validation time: ', evaluation_time)\n",
    "print('Validation result:', evaluation_result_string)\n",
    "print('Test time: ', test_time)\n",
    "print('Test result:', test_result_string)"
   ]
  },
  {
   "cell_type": "code",
   "execution_count": 13,
   "metadata": {
    "ExecuteTime": {
     "end_time": "2023-12-20T19:21:43.516070Z",
     "start_time": "2023-12-20T19:21:43.510274Z"
    }
   },
   "outputs": [],
   "source": []
  }
 ],
 "metadata": {
  "anaconda-cloud": {},
  "kernelspec": {
   "display_name": "Python 3",
   "language": "python",
   "name": "python3"
  },
  "language_info": {
   "codemirror_mode": {
    "name": "ipython",
    "version": 3
   },
   "file_extension": ".py",
   "mimetype": "text/x-python",
   "name": "python",
   "nbconvert_exporter": "python",
   "pygments_lexer": "ipython3",
   "version": "3.6.7"
  },
  "pycharm": {
   "stem_cell": {
    "cell_type": "raw",
    "metadata": {
     "collapsed": false
    },
    "source": []
   }
  }
 },
 "nbformat": 4,
 "nbformat_minor": 2
}
