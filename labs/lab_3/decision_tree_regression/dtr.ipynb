{
 "cells": [
  {
   "cell_type": "code",
   "execution_count": 20,
   "id": "initial_id",
   "metadata": {
    "collapsed": true,
    "ExecuteTime": {
     "end_time": "2023-11-23T18:22:26.126192Z",
     "start_time": "2023-11-23T18:22:25.904199Z"
    }
   },
   "outputs": [],
   "source": [
    "from sklearn.feature_selection import SelectKBest\n",
    "from sklearn.feature_selection import mutual_info_regression\n",
    "from sklearn.tree import DecisionTreeRegressor\n",
    "from sklearn.metrics import mean_absolute_error\n",
    "from sklearn.model_selection import GridSearchCV\n"
   ]
  },
  {
   "cell_type": "code",
   "execution_count": 21,
   "outputs": [
    {
     "name": "stdout",
     "output_type": "stream",
     "text": [
      "Execution time for 'load_from_csv' took 0.13416123390197754 seconds\n",
      "Execution time for 'load_from_csv' took 0.2774360179901123 seconds\n",
      "Execution time for 'load_from_csv' took 0.2971761226654053 seconds\n",
      "Execution time for 'load_from_csv' took 0.38594818115234375 seconds\n",
      "Execution time for 'load_from_csv' took 0.4441690444946289 seconds\n",
      "Execution time for 'load_from_csv' took 0.0036458969116210938 seconds\n",
      "Execution time for 'load_from_csv' took 0.0016722679138183594 seconds\n",
      "Execution time for 'load_from_csv' took 0.0021660327911376953 seconds\n",
      "Execution time for 'load_from_csv' took 0.001600027084350586 seconds\n",
      "Execution time for 'load_from_csv' took 0.0011861324310302734 seconds\n",
      "Execution time for 'load_from_csv' took 0.0011210441589355469 seconds\n",
      "Execution time for 'load_from_csv' took 0.0016710758209228516 seconds\n",
      "Execution time for 'load_from_csv' took 0.0016629695892333984 seconds\n",
      "Execution time for 'load_from_csv' took 0.00151824951171875 seconds\n",
      "Execution time for 'load_from_csv' took 0.0015881061553955078 seconds\n",
      "Execution time for 'load_from_csv' took 0.0011310577392578125 seconds\n"
     ]
    }
   ],
   "source": [
    "from labs.lab_3.util.constants import TRAIN_FILES, TEST_FILES\n",
    "from labs.util.file_processing.configuration import TRAIN_DATASET_FOLDER, TEST_DATASET_FOLDER\n",
    "from labs.lab_3.util import loader\n",
    "from sklearn.model_selection import RepeatedStratifiedKFold\n",
    "train_path: str = f\"/Users/astronely/PycharmProjects/DataAnalysisLabs/data-in/lab_3/{TRAIN_DATASET_FOLDER}\"\n",
    "test_path: str = f\"/Users/astronely/PycharmProjects/DataAnalysisLabs/data-in/lab_3/{TEST_DATASET_FOLDER}\"\n",
    "\n",
    "atomic_dataframe = loader.load_atomic_dataframe(train_path, TRAIN_FILES, test_path, TEST_FILES)\n",
    "X_train = atomic_dataframe.train\n",
    "y_train = atomic_dataframe.train_target\n",
    "X_test = atomic_dataframe.test\n",
    "y_test = atomic_dataframe.test_target"
   ],
   "metadata": {
    "collapsed": false,
    "ExecuteTime": {
     "end_time": "2023-11-23T18:22:28.071835Z",
     "start_time": "2023-11-23T18:22:25.912921Z"
    }
   },
   "id": "4e44badb49b14a8b"
  },
  {
   "cell_type": "code",
   "execution_count": 50,
   "outputs": [],
   "source": [
    "# feature selection\n",
    "def select_features(_X_train, _y_train, _X_test):\n",
    "     # configure to select a subset of features\n",
    "     _fs = SelectKBest(score_func=mutual_info_regression, k=28)\n",
    "     # learn relationship from training data\n",
    "     _fs.fit(_X_train, _y_train)\n",
    "     # transform train input data\n",
    "     _X_train_fs = _fs.transform(_X_train)\n",
    "     # transform test input data\n",
    "     _X_test_fs = _fs.transform(_X_test)\n",
    "     return _X_train_fs, _X_test_fs, _fs"
   ],
   "metadata": {
    "collapsed": false,
    "ExecuteTime": {
     "end_time": "2023-11-23T18:54:29.743294Z",
     "start_time": "2023-11-23T18:54:29.735635Z"
    }
   },
   "id": "a3222b984e6b225a"
  },
  {
   "cell_type": "code",
   "execution_count": 51,
   "outputs": [
    {
     "name": "stderr",
     "output_type": "stream",
     "text": [
      "/Library/Frameworks/Python.framework/Versions/3.11/lib/python3.11/site-packages/sklearn/utils/validation.py:1184: DataConversionWarning: A column-vector y was passed when a 1d array was expected. Please change the shape of y to (n_samples, ), for example using ravel().\n",
      "  y = column_or_1d(y, warn=True)\n"
     ]
    }
   ],
   "source": [
    "# # feature selection\n",
    "# X_train_fs, X_test_fs, fs = select_features(X_train, y_train, X_test)\n",
    "# # fit the model\n",
    "# model = DecisionTreeRegressor()\n",
    "# model.fit(X_train_fs, y_train)\n",
    "# # evaluate the model\n",
    "# yhat = model.predict(X_test_fs)\n",
    "# # evaluate predictions\n",
    "# mae = mean_absolute_error(y_test, yhat)\n",
    "# print('MAE: %.3f' % mae)\n",
    "\n",
    "# feature selection\n",
    "X_train_fs, X_test_fs, fs = select_features(X_train, y_train, X_test)\n",
    "params = {'criterion': ['friedman_mse'],\n",
    "          'max_depth': [i for i in range(10, 11, 5)],\n",
    "          'max_leaf_nodes': [i for i in range(50, 51, 10)],\n",
    "          'min_samples_split': [i for i in range(60, 61, 10)]}\n",
    "cv = RepeatedStratifiedKFold(n_splits=10, n_repeats=3, random_state=36851234)\n",
    "# init GridSearchCV based on cross-validator and params\n",
    "model = GridSearchCV(estimator=DecisionTreeRegressor(), param_grid=params, cv=cv, n_jobs=1)\n",
    "\n",
    "model.fit(X=X_train_fs, y=y_train)"
   ],
   "metadata": {
    "collapsed": false,
    "ExecuteTime": {
     "end_time": "2023-11-23T18:57:06.393074Z",
     "start_time": "2023-11-23T18:54:31.133489Z"
    }
   },
   "id": "b33e3c1245106f17"
  },
  {
   "cell_type": "code",
   "execution_count": 60,
   "outputs": [
    {
     "name": "stdout",
     "output_type": "stream",
     "text": [
      "mean_absolute_error: 31.805357078171088\n",
      "mean_squared_error: 10876.785459828836\n",
      "root_mean_squared_error: 104.29182834637062\n"
     ]
    }
   ],
   "source": [
    "import numpy as np\n",
    "from sklearn import metrics\n",
    "\n",
    "prediction = model.predict(X_test_fs)\n",
    "print(f\"R-Score: {model.best_score_}\\n\"\n",
    "      f\"mean_absolute_error: {metrics.mean_absolute_error(y_test, prediction)}\\n\"\n",
    "      f\"mean_squared_error: {metrics.mean_squared_error(y_test, prediction)}\\n\"\n",
    "      f\"root_mean_squared_error: {np.sqrt(metrics.mean_squared_error(y_test, prediction))}\")"
   ],
   "metadata": {
    "collapsed": false,
    "ExecuteTime": {
     "end_time": "2023-11-23T19:01:01.393733Z",
     "start_time": "2023-11-23T19:01:01.384554Z"
    }
   },
   "id": "418b11b45d76439"
  },
  {
   "cell_type": "code",
   "execution_count": 49,
   "outputs": [
    {
     "name": "stdout",
     "output_type": "stream",
     "text": [
      "[0.         0.00786004 0.02317951 0.10333583 0.         0.\n",
      " 0.         0.02966093 0.00284318 0.         0.         0.\n",
      " 0.         0.00865471 0.00297144 0.         0.00322239 0.\n",
      " 0.         0.         0.         0.0022793  0.00743957 0.04519006\n",
      " 0.40826278 0.         0.         0.01291314 0.28358775 0.05859936]\n"
     ]
    },
    {
     "ename": "AttributeError",
     "evalue": "'GridSearchCV' object has no attribute 'feature_names_in_'",
     "output_type": "error",
     "traceback": [
      "\u001B[0;31m---------------------------------------------------------------------------\u001B[0m",
      "\u001B[0;31mAttributeError\u001B[0m                            Traceback (most recent call last)",
      "Cell \u001B[0;32mIn[49], line 2\u001B[0m\n\u001B[1;32m      1\u001B[0m \u001B[38;5;28mprint\u001B[39m(model\u001B[38;5;241m.\u001B[39mbest_estimator_\u001B[38;5;241m.\u001B[39mfeature_importances_)\n\u001B[0;32m----> 2\u001B[0m \u001B[38;5;28mprint\u001B[39m(\u001B[43mmodel\u001B[49m\u001B[38;5;241;43m.\u001B[39;49m\u001B[43mfeature_names_in_\u001B[49m)\n",
      "\u001B[0;31mAttributeError\u001B[0m: 'GridSearchCV' object has no attribute 'feature_names_in_'"
     ]
    }
   ],
   "source": [
    "model.best_estimator_.features_importances_"
   ],
   "metadata": {
    "collapsed": false,
    "ExecuteTime": {
     "end_time": "2023-11-23T18:45:04.692848Z",
     "start_time": "2023-11-23T18:45:04.683293Z"
    }
   },
   "id": "62dfc2f43ba867de"
  },
  {
   "cell_type": "markdown",
   "source": [],
   "metadata": {
    "collapsed": false
   },
   "id": "ba425ef4cfe07c15"
  }
 ],
 "metadata": {
  "kernelspec": {
   "display_name": "Python 3",
   "language": "python",
   "name": "python3"
  },
  "language_info": {
   "codemirror_mode": {
    "name": "ipython",
    "version": 2
   },
   "file_extension": ".py",
   "mimetype": "text/x-python",
   "name": "python",
   "nbconvert_exporter": "python",
   "pygments_lexer": "ipython2",
   "version": "2.7.6"
  }
 },
 "nbformat": 4,
 "nbformat_minor": 5
}
