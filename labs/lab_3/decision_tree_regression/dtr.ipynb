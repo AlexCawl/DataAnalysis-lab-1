{
 "cells": [
  {
   "cell_type": "code",
   "execution_count": null,
   "id": "initial_id",
   "metadata": {
    "collapsed": true,
    "ExecuteTime": {
     "end_time": "2023-11-23T18:22:26.126192Z",
     "start_time": "2023-11-23T18:22:25.904199Z"
    }
   },
   "outputs": [],
   "source": [
    "from sklearn.feature_selection import SelectKBest\n",
    "from sklearn.feature_selection import mutual_info_regression\n",
    "from sklearn.tree import DecisionTreeRegressor\n",
    "from sklearn.metrics import mean_absolute_error\n",
    "from sklearn.model_selection import GridSearchCV\n"
   ]
  },
  {
   "cell_type": "code",
   "execution_count": null,
   "outputs": [],
   "source": [
    "from labs.lab_3.util.constants import TRAIN_FILES, TEST_FILES\n",
    "from labs.util.file_processing.configuration import TRAIN_DATASET_FOLDER, TEST_DATASET_FOLDER\n",
    "from labs.lab_3.util import loader\n",
    "from sklearn.model_selection import RepeatedStratifiedKFold\n",
    "train_path: str = f\"/Users/astronely/PycharmProjects/DataAnalysisLabs/data-in/lab_3/{TRAIN_DATASET_FOLDER}\"\n",
    "test_path: str = f\"/Users/astronely/PycharmProjects/DataAnalysisLabs/data-in/lab_3/{TEST_DATASET_FOLDER}\"\n",
    "\n",
    "atomic_dataframe = loader.load_atomic_dataframe(train_path, TRAIN_FILES, test_path, TEST_FILES)\n",
    "X_train = atomic_dataframe.train\n",
    "y_train = atomic_dataframe.train_target\n",
    "X_test = atomic_dataframe.test\n",
    "y_test = atomic_dataframe.test_target"
   ],
   "metadata": {
    "collapsed": false,
    "ExecuteTime": {
     "end_time": "2023-11-23T18:22:28.071835Z",
     "start_time": "2023-11-23T18:22:25.912921Z"
    }
   },
   "id": "4e44badb49b14a8b"
  },
  {
   "cell_type": "code",
   "execution_count": null,
   "outputs": [],
   "source": [
    "# feature selection\n",
    "def select_features(_X_train, _y_train, _X_test):\n",
    "     # configure to select a subset of features\n",
    "     _fs = SelectKBest(score_func=mutual_info_regression, k=28)\n",
    "     # learn relationship from training data\n",
    "     _fs.fit(_X_train, _y_train)\n",
    "     # transform train input data\n",
    "     _X_train_fs = _fs.transform(_X_train)\n",
    "     # transform test input data\n",
    "     _X_test_fs = _fs.transform(_X_test)\n",
    "     return _X_train_fs, _X_test_fs, _fs"
   ],
   "metadata": {
    "collapsed": false,
    "ExecuteTime": {
     "end_time": "2023-11-23T18:54:29.743294Z",
     "start_time": "2023-11-23T18:54:29.735635Z"
    }
   },
   "id": "a3222b984e6b225a"
  },
  {
   "cell_type": "code",
   "execution_count": null,
   "outputs": [],
   "source": [
    "# # feature selection\n",
    "# X_train_fs, X_test_fs, fs = select_features(X_train, y_train, X_test)\n",
    "# # fit the model\n",
    "# model = DecisionTreeRegressor()\n",
    "# model.fit(X_train_fs, y_train)\n",
    "# # evaluate the model\n",
    "# yhat = model.predict(X_test_fs)\n",
    "# # evaluate predictions\n",
    "# mae = mean_absolute_error(y_test, yhat)\n",
    "# print('MAE: %.3f' % mae)\n",
    "\n",
    "# feature selection\n",
    "X_train_fs, X_test_fs, fs = select_features(X_train, y_train, X_test)\n",
    "params = {'criterion': ['friedman_mse'],\n",
    "          'max_depth': [i for i in range(10, 11, 5)],\n",
    "          'max_leaf_nodes': [i for i in range(50, 51, 10)],\n",
    "          'min_samples_split': [i for i in range(60, 61, 10)]}\n",
    "cv = RepeatedStratifiedKFold(n_splits=10, n_repeats=3, random_state=36851234)\n",
    "# init GridSearchCV based on cross-validator and params\n",
    "model = GridSearchCV(estimator=DecisionTreeRegressor(), param_grid=params, cv=cv, n_jobs=1)\n",
    "\n",
    "model.fit(X=X_train_fs, y=y_train)"
   ],
   "metadata": {
    "collapsed": false,
    "ExecuteTime": {
     "end_time": "2023-11-23T18:57:06.393074Z",
     "start_time": "2023-11-23T18:54:31.133489Z"
    }
   },
   "id": "b33e3c1245106f17"
  },
  {
   "cell_type": "code",
   "execution_count": null,
   "outputs": [],
   "source": [
    "import numpy as np\n",
    "from sklearn import metrics\n",
    "\n",
    "prediction = model.predict(X_test_fs)\n",
    "print(f\"R-Score: {model.best_score_}\\n\"\n",
    "      f\"mean_absolute_error: {metrics.mean_absolute_error(y_test, prediction)}\\n\"\n",
    "      f\"mean_squared_error: {metrics.mean_squared_error(y_test, prediction)}\\n\"\n",
    "      f\"root_mean_squared_error: {np.sqrt(metrics.mean_squared_error(y_test, prediction))}\")"
   ],
   "metadata": {
    "collapsed": false,
    "ExecuteTime": {
     "end_time": "2023-11-23T19:01:01.393733Z",
     "start_time": "2023-11-23T19:01:01.384554Z"
    }
   },
   "id": "418b11b45d76439"
  },
  {
   "cell_type": "code",
   "execution_count": null,
   "outputs": [],
   "source": [
    "model.best_estimator_.features_importances_"
   ],
   "metadata": {
    "collapsed": false,
    "ExecuteTime": {
     "end_time": "2023-11-23T18:45:04.692848Z",
     "start_time": "2023-11-23T18:45:04.683293Z"
    }
   },
   "id": "62dfc2f43ba867de"
  },
  {
   "cell_type": "markdown",
   "source": [],
   "metadata": {
    "collapsed": false
   },
   "id": "ba425ef4cfe07c15"
  }
 ],
 "metadata": {
  "kernelspec": {
   "display_name": "Python 3",
   "language": "python",
   "name": "python3"
  },
  "language_info": {
   "codemirror_mode": {
    "name": "ipython",
    "version": 2
   },
   "file_extension": ".py",
   "mimetype": "text/x-python",
   "name": "python",
   "nbconvert_exporter": "python",
   "pygments_lexer": "ipython2",
   "version": "2.7.6"
  }
 },
 "nbformat": 4,
 "nbformat_minor": 5
}
