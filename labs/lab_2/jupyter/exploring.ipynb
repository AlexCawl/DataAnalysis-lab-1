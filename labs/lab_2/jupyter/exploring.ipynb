{
 "cells": [
  {
   "cell_type": "code",
   "execution_count": 10,
   "metadata": {
    "collapsed": true,
    "ExecuteTime": {
     "start_time": "2023-10-19T21:17:41.755511Z",
     "end_time": "2023-10-19T21:17:41.796578Z"
    }
   },
   "outputs": [
    {
     "name": "stdout",
     "output_type": "stream",
     "text": [
      "Execution time for 'load_from_csv' took 0.0031545162200927734 seconds\n"
     ]
    }
   ],
   "source": [
    "import pandas as pd\n",
    "from labs.util.file_processing.loader import load_from_csv\n",
    "\n",
    "DATAFRAME_PATH: str = \"/home/mick/IdeaProjects/DataAnalysisLabs/data-in/phishingData.csv\" # pass here your/path to the phishing.csv\n",
    "dataframe: pd.DataFrame = load_from_csv(path=DATAFRAME_PATH, delimiter=\",\")"
   ]
  },
  {
   "cell_type": "code",
   "execution_count": 11,
   "outputs": [
    {
     "data": {
      "text/plain": "   SFH  popUpWidnow  SSLfinal_State  Request_URL  URL_of_Anchor  web_traffic  \\\n0    1           -1               1           -1             -1            1   \n1   -1           -1              -1           -1             -1            0   \n2    1           -1               0            0             -1            0   \n3    1            0               1           -1             -1            0   \n4   -1           -1               1           -1              0            0   \n\n   URL_Length  age_of_domain  having_IP_Address  Result  \n0           1              1                  0       0  \n1           1              1                  1       1  \n2          -1              1                  0       1  \n3           1              1                  0       0  \n4          -1              1                  0       1  ",
      "text/html": "<div>\n<style scoped>\n    .dataframe tbody tr th:only-of-type {\n        vertical-align: middle;\n    }\n\n    .dataframe tbody tr th {\n        vertical-align: top;\n    }\n\n    .dataframe thead th {\n        text-align: right;\n    }\n</style>\n<table border=\"1\" class=\"dataframe\">\n  <thead>\n    <tr style=\"text-align: right;\">\n      <th></th>\n      <th>SFH</th>\n      <th>popUpWidnow</th>\n      <th>SSLfinal_State</th>\n      <th>Request_URL</th>\n      <th>URL_of_Anchor</th>\n      <th>web_traffic</th>\n      <th>URL_Length</th>\n      <th>age_of_domain</th>\n      <th>having_IP_Address</th>\n      <th>Result</th>\n    </tr>\n  </thead>\n  <tbody>\n    <tr>\n      <th>0</th>\n      <td>1</td>\n      <td>-1</td>\n      <td>1</td>\n      <td>-1</td>\n      <td>-1</td>\n      <td>1</td>\n      <td>1</td>\n      <td>1</td>\n      <td>0</td>\n      <td>0</td>\n    </tr>\n    <tr>\n      <th>1</th>\n      <td>-1</td>\n      <td>-1</td>\n      <td>-1</td>\n      <td>-1</td>\n      <td>-1</td>\n      <td>0</td>\n      <td>1</td>\n      <td>1</td>\n      <td>1</td>\n      <td>1</td>\n    </tr>\n    <tr>\n      <th>2</th>\n      <td>1</td>\n      <td>-1</td>\n      <td>0</td>\n      <td>0</td>\n      <td>-1</td>\n      <td>0</td>\n      <td>-1</td>\n      <td>1</td>\n      <td>0</td>\n      <td>1</td>\n    </tr>\n    <tr>\n      <th>3</th>\n      <td>1</td>\n      <td>0</td>\n      <td>1</td>\n      <td>-1</td>\n      <td>-1</td>\n      <td>0</td>\n      <td>1</td>\n      <td>1</td>\n      <td>0</td>\n      <td>0</td>\n    </tr>\n    <tr>\n      <th>4</th>\n      <td>-1</td>\n      <td>-1</td>\n      <td>1</td>\n      <td>-1</td>\n      <td>0</td>\n      <td>0</td>\n      <td>-1</td>\n      <td>1</td>\n      <td>0</td>\n      <td>1</td>\n    </tr>\n  </tbody>\n</table>\n</div>"
     },
     "execution_count": 11,
     "metadata": {},
     "output_type": "execute_result"
    }
   ],
   "source": [
    "dataframe.head()"
   ],
   "metadata": {
    "collapsed": false,
    "ExecuteTime": {
     "start_time": "2023-10-19T21:17:41.796687Z",
     "end_time": "2023-10-19T21:17:41.857298Z"
    }
   }
  },
  {
   "cell_type": "code",
   "execution_count": 12,
   "outputs": [
    {
     "name": "stdout",
     "output_type": "stream",
     "text": [
      "<class 'pandas.core.frame.DataFrame'>\n",
      "RangeIndex: 1353 entries, 0 to 1352\n",
      "Data columns (total 10 columns):\n",
      " #   Column             Non-Null Count  Dtype\n",
      "---  ------             --------------  -----\n",
      " 0   SFH                1353 non-null   int64\n",
      " 1   popUpWidnow        1353 non-null   int64\n",
      " 2   SSLfinal_State     1353 non-null   int64\n",
      " 3   Request_URL        1353 non-null   int64\n",
      " 4   URL_of_Anchor      1353 non-null   int64\n",
      " 5   web_traffic        1353 non-null   int64\n",
      " 6   URL_Length         1353 non-null   int64\n",
      " 7   age_of_domain      1353 non-null   int64\n",
      " 8   having_IP_Address  1353 non-null   int64\n",
      " 9   Result             1353 non-null   int64\n",
      "dtypes: int64(10)\n",
      "memory usage: 105.8 KB\n"
     ]
    }
   ],
   "source": [
    "dataframe.info()"
   ],
   "metadata": {
    "collapsed": false,
    "ExecuteTime": {
     "start_time": "2023-10-19T21:17:41.859592Z",
     "end_time": "2023-10-19T21:17:42.215264Z"
    }
   }
  },
  {
   "cell_type": "code",
   "execution_count": 13,
   "outputs": [
    {
     "data": {
      "text/plain": "                        SFH  popUpWidnow  SSLfinal_State  Request_URL  \\\nSFH                1.000000     0.375943        0.368690     0.257247   \npopUpWidnow        0.375943     1.000000        0.218050     0.111520   \nSSLfinal_State     0.368690     0.218050        1.000000     0.057239   \nRequest_URL        0.257247     0.111520        0.057239     1.000000   \nURL_of_Anchor      0.333703     0.167760        0.088525     0.337277   \nweb_traffic       -0.187082    -0.140407       -0.171719    -0.045858   \nURL_Length         0.151503     0.136229        0.095055     0.048431   \nage_of_domain      0.163182     0.076815        0.208091     0.053348   \nhaving_IP_Address  0.043349     0.123399        0.108000     0.013346   \nResult            -0.678277    -0.509749       -0.518762    -0.271609   \n\n                   URL_of_Anchor  web_traffic  URL_Length  age_of_domain  \\\nSFH                     0.333703    -0.187082    0.151503       0.163182   \npopUpWidnow             0.167760    -0.140407    0.136229       0.076815   \nSSLfinal_State          0.088525    -0.171719    0.095055       0.208091   \nRequest_URL             0.337277    -0.045858    0.048431       0.053348   \nURL_of_Anchor           1.000000    -0.092045    0.097581       0.069178   \nweb_traffic            -0.092045     1.000000   -0.108204      -0.683857   \nURL_Length              0.097581    -0.108204    1.000000       0.075338   \nage_of_domain           0.069178    -0.683857    0.075338       1.000000   \nhaving_IP_Address       0.039412    -0.094957    0.165152       0.040379   \nResult                 -0.287007     0.243896   -0.183061      -0.231931   \n\n                   having_IP_Address    Result  \nSFH                         0.043349 -0.678277  \npopUpWidnow                 0.123399 -0.509749  \nSSLfinal_State              0.108000 -0.518762  \nRequest_URL                 0.013346 -0.271609  \nURL_of_Anchor               0.039412 -0.287007  \nweb_traffic                -0.094957  0.243896  \nURL_Length                  0.165152 -0.183061  \nage_of_domain               0.040379 -0.231931  \nhaving_IP_Address           1.000000 -0.059225  \nResult                     -0.059225  1.000000  ",
      "text/html": "<div>\n<style scoped>\n    .dataframe tbody tr th:only-of-type {\n        vertical-align: middle;\n    }\n\n    .dataframe tbody tr th {\n        vertical-align: top;\n    }\n\n    .dataframe thead th {\n        text-align: right;\n    }\n</style>\n<table border=\"1\" class=\"dataframe\">\n  <thead>\n    <tr style=\"text-align: right;\">\n      <th></th>\n      <th>SFH</th>\n      <th>popUpWidnow</th>\n      <th>SSLfinal_State</th>\n      <th>Request_URL</th>\n      <th>URL_of_Anchor</th>\n      <th>web_traffic</th>\n      <th>URL_Length</th>\n      <th>age_of_domain</th>\n      <th>having_IP_Address</th>\n      <th>Result</th>\n    </tr>\n  </thead>\n  <tbody>\n    <tr>\n      <th>SFH</th>\n      <td>1.000000</td>\n      <td>0.375943</td>\n      <td>0.368690</td>\n      <td>0.257247</td>\n      <td>0.333703</td>\n      <td>-0.187082</td>\n      <td>0.151503</td>\n      <td>0.163182</td>\n      <td>0.043349</td>\n      <td>-0.678277</td>\n    </tr>\n    <tr>\n      <th>popUpWidnow</th>\n      <td>0.375943</td>\n      <td>1.000000</td>\n      <td>0.218050</td>\n      <td>0.111520</td>\n      <td>0.167760</td>\n      <td>-0.140407</td>\n      <td>0.136229</td>\n      <td>0.076815</td>\n      <td>0.123399</td>\n      <td>-0.509749</td>\n    </tr>\n    <tr>\n      <th>SSLfinal_State</th>\n      <td>0.368690</td>\n      <td>0.218050</td>\n      <td>1.000000</td>\n      <td>0.057239</td>\n      <td>0.088525</td>\n      <td>-0.171719</td>\n      <td>0.095055</td>\n      <td>0.208091</td>\n      <td>0.108000</td>\n      <td>-0.518762</td>\n    </tr>\n    <tr>\n      <th>Request_URL</th>\n      <td>0.257247</td>\n      <td>0.111520</td>\n      <td>0.057239</td>\n      <td>1.000000</td>\n      <td>0.337277</td>\n      <td>-0.045858</td>\n      <td>0.048431</td>\n      <td>0.053348</td>\n      <td>0.013346</td>\n      <td>-0.271609</td>\n    </tr>\n    <tr>\n      <th>URL_of_Anchor</th>\n      <td>0.333703</td>\n      <td>0.167760</td>\n      <td>0.088525</td>\n      <td>0.337277</td>\n      <td>1.000000</td>\n      <td>-0.092045</td>\n      <td>0.097581</td>\n      <td>0.069178</td>\n      <td>0.039412</td>\n      <td>-0.287007</td>\n    </tr>\n    <tr>\n      <th>web_traffic</th>\n      <td>-0.187082</td>\n      <td>-0.140407</td>\n      <td>-0.171719</td>\n      <td>-0.045858</td>\n      <td>-0.092045</td>\n      <td>1.000000</td>\n      <td>-0.108204</td>\n      <td>-0.683857</td>\n      <td>-0.094957</td>\n      <td>0.243896</td>\n    </tr>\n    <tr>\n      <th>URL_Length</th>\n      <td>0.151503</td>\n      <td>0.136229</td>\n      <td>0.095055</td>\n      <td>0.048431</td>\n      <td>0.097581</td>\n      <td>-0.108204</td>\n      <td>1.000000</td>\n      <td>0.075338</td>\n      <td>0.165152</td>\n      <td>-0.183061</td>\n    </tr>\n    <tr>\n      <th>age_of_domain</th>\n      <td>0.163182</td>\n      <td>0.076815</td>\n      <td>0.208091</td>\n      <td>0.053348</td>\n      <td>0.069178</td>\n      <td>-0.683857</td>\n      <td>0.075338</td>\n      <td>1.000000</td>\n      <td>0.040379</td>\n      <td>-0.231931</td>\n    </tr>\n    <tr>\n      <th>having_IP_Address</th>\n      <td>0.043349</td>\n      <td>0.123399</td>\n      <td>0.108000</td>\n      <td>0.013346</td>\n      <td>0.039412</td>\n      <td>-0.094957</td>\n      <td>0.165152</td>\n      <td>0.040379</td>\n      <td>1.000000</td>\n      <td>-0.059225</td>\n    </tr>\n    <tr>\n      <th>Result</th>\n      <td>-0.678277</td>\n      <td>-0.509749</td>\n      <td>-0.518762</td>\n      <td>-0.271609</td>\n      <td>-0.287007</td>\n      <td>0.243896</td>\n      <td>-0.183061</td>\n      <td>-0.231931</td>\n      <td>-0.059225</td>\n      <td>1.000000</td>\n    </tr>\n  </tbody>\n</table>\n</div>"
     },
     "execution_count": 13,
     "metadata": {},
     "output_type": "execute_result"
    }
   ],
   "source": [
    "dataframe.corr()"
   ],
   "metadata": {
    "collapsed": false,
    "ExecuteTime": {
     "start_time": "2023-10-19T21:17:42.227045Z",
     "end_time": "2023-10-19T21:17:42.268619Z"
    }
   }
  }
 ],
 "metadata": {
  "kernelspec": {
   "display_name": "Python 3",
   "language": "python",
   "name": "python3"
  },
  "language_info": {
   "codemirror_mode": {
    "name": "ipython",
    "version": 2
   },
   "file_extension": ".py",
   "mimetype": "text/x-python",
   "name": "python",
   "nbconvert_exporter": "python",
   "pygments_lexer": "ipython2",
   "version": "2.7.6"
  }
 },
 "nbformat": 4,
 "nbformat_minor": 0
}
