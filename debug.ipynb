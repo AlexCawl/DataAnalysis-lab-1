{
 "cells": [
  {
   "cell_type": "code",
   "execution_count": 15,
   "outputs": [],
   "source": [
    "from sklearn import datasets\n",
    "from sklearn.model_selection import train_test_split\n",
    "from sklearn.model_selection import GridSearchCV\n",
    "from sklearn.ensemble import GradientBoostingRegressor"
   ],
   "metadata": {
    "collapsed": false,
    "ExecuteTime": {
     "start_time": "2023-11-17T21:09:30.418116Z",
     "end_time": "2023-11-17T21:09:32.158537Z"
    }
   }
  },
  {
   "cell_type": "code",
   "execution_count": 16,
   "outputs": [],
   "source": [
    "dataset = datasets.load_diabetes()\n",
    "X = dataset.data\n",
    "y = dataset.target\n",
    "X_train, X_test, y_train, y_test = train_test_split(X, y, test_size=0.30)"
   ],
   "metadata": {
    "collapsed": false,
    "ExecuteTime": {
     "start_time": "2023-11-17T21:09:32.161727Z",
     "end_time": "2023-11-17T21:09:32.184002Z"
    }
   }
  },
  {
   "cell_type": "code",
   "execution_count": 17,
   "outputs": [],
   "source": [
    "GBR = GradientBoostingRegressor()"
   ],
   "metadata": {
    "collapsed": false,
    "ExecuteTime": {
     "start_time": "2023-11-17T21:09:32.182119Z",
     "end_time": "2023-11-17T21:09:32.287556Z"
    }
   }
  },
  {
   "cell_type": "code",
   "execution_count": 18,
   "outputs": [],
   "source": [
    "parameters = {\n",
    "    'learning_rate': [0.01, 0.02, 0.03, 0.04],\n",
    "    'subsample': [0.9, 0.5, 0.2, 0.1],\n",
    "    'n_estimators': [100, 500, 1000, 1500],\n",
    "    'max_depth': [4, 6, 8, 10]\n",
    "}"
   ],
   "metadata": {
    "collapsed": false,
    "ExecuteTime": {
     "start_time": "2023-11-17T21:09:32.299442Z",
     "end_time": "2023-11-17T21:09:32.382541Z"
    }
   }
  },
  {
   "cell_type": "code",
   "execution_count": 19,
   "outputs": [
    {
     "name": "stdout",
     "output_type": "stream",
     "text": [
      " Results from Grid Search \n",
      "\n",
      " The best estimator across ALL searched params:\n",
      " GradientBoostingRegressor(learning_rate=0.04, max_depth=8, subsample=0.1)\n",
      "\n",
      " The best score across ALL searched params:\n",
      " 0.4659938853581227\n",
      "\n",
      " The best parameters across ALL searched params:\n",
      " {'learning_rate': 0.04, 'max_depth': 8, 'n_estimators': 100, 'subsample': 0.1}\n"
     ]
    }
   ],
   "source": [
    "grid_GBR = GridSearchCV(estimator=GBR, param_grid=parameters, cv=2, n_jobs=-1)\n",
    "grid_GBR.fit(X_train, y_train)\n",
    "\n",
    "print(\" Results from Grid Search \")\n",
    "print(\"\\n The best estimator across ALL searched params:\\n\", grid_GBR.best_estimator_)\n",
    "print(\"\\n The best score across ALL searched params:\\n\", grid_GBR.best_score_)\n",
    "print(\"\\n The best parameters across ALL searched params:\\n\", grid_GBR.best_params_)"
   ],
   "metadata": {
    "collapsed": false,
    "ExecuteTime": {
     "start_time": "2023-11-17T21:09:32.384402Z",
     "end_time": "2023-11-17T21:10:27.652430Z"
    }
   }
  }
 ],
 "metadata": {
  "kernelspec": {
   "display_name": "Python 3",
   "language": "python",
   "name": "python3"
  },
  "language_info": {
   "codemirror_mode": {
    "name": "ipython",
    "version": 2
   },
   "file_extension": ".py",
   "mimetype": "text/x-python",
   "name": "python",
   "nbconvert_exporter": "python",
   "pygments_lexer": "ipython2",
   "version": "2.7.6"
  }
 },
 "nbformat": 4,
 "nbformat_minor": 0
}
