{
 "cells": [
  {
   "cell_type": "code",
   "execution_count": 2,
   "metadata": {
    "collapsed": true,
    "ExecuteTime": {
     "start_time": "2023-11-24T18:25:12.030670Z",
     "end_time": "2023-11-24T18:25:32.347191Z"
    }
   },
   "outputs": [
    {
     "name": "stdout",
     "output_type": "stream",
     "text": [
      "Execution time for 'load_from_csv' took 1.559600830078125 seconds\n",
      "Execution time for 'load_from_csv' took 2.8128085136413574 seconds\n",
      "Execution time for 'load_from_csv' took 3.6968631744384766 seconds\n",
      "Execution time for 'load_from_csv' took 5.247804880142212 seconds\n",
      "Execution time for 'load_from_csv' took 6.194631099700928 seconds\n",
      "Execution time for 'load_from_csv' took 0.0065839290618896484 seconds\n",
      "Execution time for 'load_from_csv' took 0.019948959350585938 seconds\n",
      "Execution time for 'load_from_csv' took 0.019467592239379883 seconds\n",
      "Execution time for 'load_from_csv' took 0.017339229583740234 seconds\n",
      "Execution time for 'load_from_csv' took 0.005195140838623047 seconds\n",
      "Execution time for 'load_from_csv' took 0.011141061782836914 seconds\n",
      "Execution time for 'load_from_csv' took 0.005450248718261719 seconds\n",
      "Execution time for 'load_from_csv' took 0.005303144454956055 seconds\n",
      "Execution time for 'load_from_csv' took 0.011760711669921875 seconds\n",
      "Execution time for 'load_from_csv' took 0.00525665283203125 seconds\n",
      "Execution time for 'load_from_csv' took 0.011987686157226562 seconds\n"
     ]
    },
    {
     "data": {
      "text/plain": "602808"
     },
     "execution_count": 2,
     "metadata": {},
     "output_type": "execute_result"
    }
   ],
   "source": [
    "from labs.lab_3.util.constants import TRAIN_FILES, TEST_FILES, PATH_TRAIN, PATH_TEST\n",
    "from labs.lab_3.util.loader import load_atomic_dataframe\n",
    "from labs.lab_3.util.AtomicDataframe import AtomicDataframe\n",
    "\n",
    "atomic_dataframe: AtomicDataframe = load_atomic_dataframe(PATH_TRAIN, TRAIN_FILES, PATH_TEST, TEST_FILES)\n",
    "len(atomic_dataframe.train)"
   ]
  },
  {
   "cell_type": "code",
   "execution_count": 3,
   "outputs": [
    {
     "name": "stdout",
     "output_type": "stream",
     "text": [
      "Variant ATOMIC: RMS = 91.80846431909468, R2 = 0.1906606093279225\n"
     ]
    }
   ],
   "source": [
    "from sklearn.metrics import mean_squared_error\n",
    "from numpy import sqrt\n",
    "from sklearn.linear_model import LinearRegression\n",
    "\n",
    "regressor = LinearRegression(fit_intercept=False)\n",
    "regressor.fit(atomic_dataframe.train, atomic_dataframe.train_target)\n",
    "rms = sqrt(mean_squared_error(atomic_dataframe.test_target, regressor.predict(atomic_dataframe.test)))\n",
    "print(f\"Variant ATOMIC: RMS = {rms}, R2 = {regressor.score(atomic_dataframe.test, atomic_dataframe.test_target)}\")"
   ],
   "metadata": {
    "collapsed": false,
    "ExecuteTime": {
     "start_time": "2023-11-24T18:25:32.351727Z",
     "end_time": "2023-11-24T18:25:40.730177Z"
    }
   }
  }
 ],
 "metadata": {
  "kernelspec": {
   "display_name": "Python 3",
   "language": "python",
   "name": "python3"
  },
  "language_info": {
   "codemirror_mode": {
    "name": "ipython",
    "version": 2
   },
   "file_extension": ".py",
   "mimetype": "text/x-python",
   "name": "python",
   "nbconvert_exporter": "python",
   "pygments_lexer": "ipython2",
   "version": "2.7.6"
  }
 },
 "nbformat": 4,
 "nbformat_minor": 0
}
