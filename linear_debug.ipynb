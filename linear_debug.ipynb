{
 "cells": [
  {
   "cell_type": "code",
   "execution_count": null,
   "outputs": [],
   "source": [
    "import numpy as np\n",
    "import pandas as pd\n",
    "\n",
    "from labs.lab_3.util.loader import load_from_multiple_sources_merged\n",
    "from labs.lab_3.util.constants import TRAIN_FILES, PATH_TRAIN\n",
    "\n",
    "training: pd.DataFrame = load_from_multiple_sources_merged(PATH_TRAIN, TRAIN_FILES)\n",
    "len(training)"
   ],
   "metadata": {
    "collapsed": false
   }
  },
  {
   "cell_type": "code",
   "execution_count": null,
   "outputs": [],
   "source": [
    "for key in set(list(training[\"H Local\"])):\n",
    "    df = training[training['H Local'] == key]\n",
    "    print(f\"size of [{key}] = {len(df)}\")"
   ],
   "metadata": {
    "collapsed": false,
    "ExecuteTime": {
     "start_time": "2023-12-06T22:31:20.927030Z",
     "end_time": "2023-12-06T22:31:21.187778Z"
    }
   }
  },
  {
   "cell_type": "code",
   "execution_count": null,
   "outputs": [],
   "source": [
    "from labs.lab_3.util.constants import TEST_FILES, PATH_TEST\n",
    "\n",
    "testing: pd.DataFrame = load_from_multiple_sources_merged(PATH_TEST, TEST_FILES)\n",
    "len(testing)"
   ],
   "metadata": {
    "collapsed": false,
    "ExecuteTime": {
     "start_time": "2023-12-06T22:31:21.184070Z",
     "end_time": "2023-12-06T22:31:21.188083Z"
    }
   }
  },
  {
   "cell_type": "code",
   "execution_count": null,
   "outputs": [],
   "source": [
    "from labs.lab_3.gradient_boosting_regression.GradientBoostingRegressionModel import GradientBoostingRegressionModel\n",
    "from labs.lab_3.util.data.RegressionSelectorHolder import RegressionSelectorHolder\n",
    "\n",
    "holder = RegressionSelectorHolder(training, testing, \"Target Variable\", \"H Local\", lambda: GradientBoostingRegressionModel())\n",
    "holder.get_info()"
   ],
   "metadata": {
    "collapsed": false,
    "ExecuteTime": {
     "start_time": "2023-12-06T22:31:21.184167Z",
     "end_time": "2023-12-06T22:31:22.927573Z"
    }
   }
  },
  {
   "cell_type": "code",
   "execution_count": null,
   "outputs": [],
   "source": [
    "holder.train()"
   ],
   "metadata": {
    "collapsed": false,
    "ExecuteTime": {
     "start_time": "2023-12-06T22:31:22.930863Z",
     "end_time": "2023-12-06T22:33:24.091071Z"
    }
   }
  },
  {
   "cell_type": "code",
   "execution_count": null,
   "outputs": [],
   "source": [
    "holder.test()"
   ],
   "metadata": {
    "collapsed": false,
    "ExecuteTime": {
     "start_time": "2023-12-06T22:33:24.099867Z",
     "end_time": "2023-12-06T22:33:24.187380Z"
    }
   }
  },
  {
   "cell_type": "code",
   "execution_count": null,
   "outputs": [],
   "source": [
    "from typing import List\n",
    "\n",
    "scores: List[str] = []\n",
    "for key in holder:\n",
    "    scores.append(holder[key].get_info()['R2 score'])\n",
    "\n",
    "list(map(lambda x: float(x), scores))"
   ],
   "metadata": {
    "collapsed": false,
    "ExecuteTime": {
     "start_time": "2023-12-06T22:36:49.609183Z",
     "end_time": "2023-12-06T22:36:49.669581Z"
    }
   }
  },
  {
   "cell_type": "code",
   "execution_count": null,
   "outputs": [],
   "source": [
    "np.median(list(map(lambda x: float(x), scores)))"
   ],
   "metadata": {
    "collapsed": false,
    "ExecuteTime": {
     "start_time": "2023-12-06T22:37:23.590926Z",
     "end_time": "2023-12-06T22:37:23.605705Z"
    }
   }
  }
 ],
 "metadata": {
  "kernelspec": {
   "display_name": "Python 3",
   "language": "python",
   "name": "python3"
  },
  "language_info": {
   "codemirror_mode": {
    "name": "ipython",
    "version": 2
   },
   "file_extension": ".py",
   "mimetype": "text/x-python",
   "name": "python",
   "nbconvert_exporter": "python",
   "pygments_lexer": "ipython2",
   "version": "2.7.6"
  }
 },
 "nbformat": 4,
 "nbformat_minor": 0
}
