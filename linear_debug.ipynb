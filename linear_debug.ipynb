{
 "cells": [
  {
   "cell_type": "code",
   "execution_count": 1,
   "metadata": {
    "collapsed": true,
    "ExecuteTime": {
     "start_time": "2023-11-24T18:41:46.701943Z",
     "end_time": "2023-11-24T18:41:51.498639Z"
    }
   },
   "outputs": [
    {
     "name": "stdout",
     "output_type": "stream",
     "text": [
      "Execution time for 'load_from_csv' took 0.3593735694885254 seconds\n",
      "Execution time for 'load_from_csv' took 0.6314773559570312 seconds\n",
      "Execution time for 'load_from_csv' took 0.8300809860229492 seconds\n",
      "Execution time for 'load_from_csv' took 1.1323673725128174 seconds\n",
      "Execution time for 'load_from_csv' took 1.4763751029968262 seconds\n",
      "Execution time for 'load_from_csv' took 0.003740549087524414 seconds\n",
      "Execution time for 'load_from_csv' took 0.0027725696563720703 seconds\n",
      "Execution time for 'load_from_csv' took 0.0025551319122314453 seconds\n",
      "Execution time for 'load_from_csv' took 0.002361297607421875 seconds\n",
      "Execution time for 'load_from_csv' took 0.0033435821533203125 seconds\n",
      "Execution time for 'load_from_csv' took 0.0026683807373046875 seconds\n",
      "Execution time for 'load_from_csv' took 0.002154111862182617 seconds\n",
      "Execution time for 'load_from_csv' took 0.0018067359924316406 seconds\n",
      "Execution time for 'load_from_csv' took 0.002134084701538086 seconds\n",
      "Execution time for 'load_from_csv' took 0.0022363662719726562 seconds\n",
      "Execution time for 'load_from_csv' took 0.0019567012786865234 seconds\n"
     ]
    },
    {
     "data": {
      "text/plain": "5"
     },
     "execution_count": 1,
     "metadata": {},
     "output_type": "execute_result"
    }
   ],
   "source": [
    "from labs.lab_3.util.DiscreteDataframe import DiscreteDataframe\n",
    "from labs.lab_3.util.constants import TRAIN_FILES, TEST_FILES, PATH_TRAIN, PATH_TEST\n",
    "from labs.lab_3.util.loader import load_discrete_dataframe\n",
    "\n",
    "dataframe: DiscreteDataframe = load_discrete_dataframe(PATH_TRAIN, TRAIN_FILES, PATH_TEST, TEST_FILES)\n",
    "len(dataframe.train_samples)"
   ]
  },
  {
   "cell_type": "code",
   "execution_count": 2,
   "outputs": [
    {
     "name": "stderr",
     "output_type": "stream",
     "text": [
      "/home/mick/IdeaProjects/DataAnalysisLabs/venv/lib/python3.10/site-packages/sklearn/model_selection/_split.py:737: UserWarning: The least populated class in y has only 1 members, which is less than n_splits=10.\n",
      "  warnings.warn(\n",
      "/home/mick/IdeaProjects/DataAnalysisLabs/venv/lib/python3.10/site-packages/sklearn/model_selection/_split.py:737: UserWarning: The least populated class in y has only 1 members, which is less than n_splits=10.\n",
      "  warnings.warn(\n",
      "/home/mick/IdeaProjects/DataAnalysisLabs/venv/lib/python3.10/site-packages/sklearn/model_selection/_split.py:737: UserWarning: The least populated class in y has only 1 members, which is less than n_splits=10.\n",
      "  warnings.warn(\n"
     ]
    },
    {
     "name": "stdout",
     "output_type": "stream",
     "text": [
      "Execution time for 'train' took 4.240069150924683 seconds\n"
     ]
    },
    {
     "name": "stderr",
     "output_type": "stream",
     "text": [
      "/home/mick/IdeaProjects/DataAnalysisLabs/venv/lib/python3.10/site-packages/sklearn/model_selection/_split.py:737: UserWarning: The least populated class in y has only 1 members, which is less than n_splits=10.\n",
      "  warnings.warn(\n",
      "/home/mick/IdeaProjects/DataAnalysisLabs/venv/lib/python3.10/site-packages/sklearn/model_selection/_split.py:737: UserWarning: The least populated class in y has only 1 members, which is less than n_splits=10.\n",
      "  warnings.warn(\n",
      "/home/mick/IdeaProjects/DataAnalysisLabs/venv/lib/python3.10/site-packages/sklearn/model_selection/_split.py:737: UserWarning: The least populated class in y has only 1 members, which is less than n_splits=10.\n",
      "  warnings.warn(\n"
     ]
    },
    {
     "name": "stdout",
     "output_type": "stream",
     "text": [
      "Execution time for 'train' took 5.573374509811401 seconds\n"
     ]
    },
    {
     "name": "stderr",
     "output_type": "stream",
     "text": [
      "/home/mick/IdeaProjects/DataAnalysisLabs/venv/lib/python3.10/site-packages/sklearn/model_selection/_split.py:737: UserWarning: The least populated class in y has only 1 members, which is less than n_splits=10.\n",
      "  warnings.warn(\n",
      "/home/mick/IdeaProjects/DataAnalysisLabs/venv/lib/python3.10/site-packages/sklearn/model_selection/_split.py:737: UserWarning: The least populated class in y has only 1 members, which is less than n_splits=10.\n",
      "  warnings.warn(\n",
      "/home/mick/IdeaProjects/DataAnalysisLabs/venv/lib/python3.10/site-packages/sklearn/model_selection/_split.py:737: UserWarning: The least populated class in y has only 1 members, which is less than n_splits=10.\n",
      "  warnings.warn(\n"
     ]
    },
    {
     "name": "stdout",
     "output_type": "stream",
     "text": [
      "Execution time for 'train' took 8.195859670639038 seconds\n"
     ]
    },
    {
     "name": "stderr",
     "output_type": "stream",
     "text": [
      "/home/mick/IdeaProjects/DataAnalysisLabs/venv/lib/python3.10/site-packages/sklearn/model_selection/_split.py:737: UserWarning: The least populated class in y has only 1 members, which is less than n_splits=10.\n",
      "  warnings.warn(\n",
      "/home/mick/IdeaProjects/DataAnalysisLabs/venv/lib/python3.10/site-packages/sklearn/model_selection/_split.py:737: UserWarning: The least populated class in y has only 1 members, which is less than n_splits=10.\n",
      "  warnings.warn(\n",
      "/home/mick/IdeaProjects/DataAnalysisLabs/venv/lib/python3.10/site-packages/sklearn/model_selection/_split.py:737: UserWarning: The least populated class in y has only 1 members, which is less than n_splits=10.\n",
      "  warnings.warn(\n"
     ]
    },
    {
     "name": "stdout",
     "output_type": "stream",
     "text": [
      "Execution time for 'train' took 11.417047262191772 seconds\n"
     ]
    },
    {
     "name": "stderr",
     "output_type": "stream",
     "text": [
      "/home/mick/IdeaProjects/DataAnalysisLabs/venv/lib/python3.10/site-packages/sklearn/model_selection/_split.py:737: UserWarning: The least populated class in y has only 1 members, which is less than n_splits=10.\n",
      "  warnings.warn(\n",
      "/home/mick/IdeaProjects/DataAnalysisLabs/venv/lib/python3.10/site-packages/sklearn/model_selection/_split.py:737: UserWarning: The least populated class in y has only 1 members, which is less than n_splits=10.\n",
      "  warnings.warn(\n",
      "/home/mick/IdeaProjects/DataAnalysisLabs/venv/lib/python3.10/site-packages/sklearn/model_selection/_split.py:737: UserWarning: The least populated class in y has only 1 members, which is less than n_splits=10.\n",
      "  warnings.warn(\n"
     ]
    },
    {
     "name": "stdout",
     "output_type": "stream",
     "text": [
      "Execution time for 'train' took 14.369069337844849 seconds\n",
      "Execution time for 'test' took 0.01420450210571289 seconds\n",
      "{'model': 'sklearn.linear_model.LinearRegression', 'best_estimator': 'LinearRegression(fit_intercept=False)', 'best_params': \"{'copy_X': True, 'fit_intercept': False}\", 'mean_absolute_error': '23.841235613296075', 'mean_squared_error': '3070.3302053479447', 'root_mean_squared_error': '55.410560413588534', 'R2 score': '0.569445083393695'}\n",
      "Execution time for 'test' took 0.026616573333740234 seconds\n",
      "{'model': 'sklearn.linear_model.LinearRegression', 'best_estimator': 'LinearRegression(fit_intercept=False)', 'best_params': \"{'copy_X': True, 'fit_intercept': False}\", 'mean_absolute_error': '22.818957262261044', 'mean_squared_error': '3280.7119690467775', 'root_mean_squared_error': '57.277499675237024', 'R2 score': '0.5609296864640972'}\n",
      "Execution time for 'test' took 0.02395772933959961 seconds\n",
      "{'model': 'sklearn.linear_model.LinearRegression', 'best_estimator': 'LinearRegression(fit_intercept=False)', 'best_params': \"{'copy_X': True, 'fit_intercept': False}\", 'mean_absolute_error': '21.6293612849919', 'mean_squared_error': '3361.7703910932782', 'root_mean_squared_error': '57.980776047697724', 'R2 score': '-0.6281837724118859'}\n",
      "Execution time for 'test' took 0.009997844696044922 seconds\n",
      "{'model': 'sklearn.linear_model.LinearRegression', 'best_estimator': 'LinearRegression(fit_intercept=False)', 'best_params': \"{'copy_X': True, 'fit_intercept': False}\", 'mean_absolute_error': '31.78201735456411', 'mean_squared_error': '15612.469080007255', 'root_mean_squared_error': '124.94986626646407', 'R2 score': '0.1448951130656796'}\n",
      "Execution time for 'test' took 0.009680509567260742 seconds\n",
      "{'model': 'sklearn.linear_model.LinearRegression', 'best_estimator': 'LinearRegression(fit_intercept=False)', 'best_params': \"{'copy_X': True, 'fit_intercept': False}\", 'mean_absolute_error': '18.87402290865729', 'mean_squared_error': '1879.1899627535847', 'root_mean_squared_error': '43.34962471294976', 'R2 score': '0.5139041894386258'}\n",
      "Execution time for 'test' took 0.008440732955932617 seconds\n",
      "{'model': 'sklearn.linear_model.LinearRegression', 'best_estimator': 'LinearRegression(fit_intercept=False)', 'best_params': \"{'copy_X': True, 'fit_intercept': False}\", 'mean_absolute_error': '18.87402290865729', 'mean_squared_error': '1879.1899627535847', 'root_mean_squared_error': '43.34962471294976', 'R2 score': '0.5139041894386258'}\n",
      "Execution time for 'test' took 0.00552058219909668 seconds\n",
      "{'model': 'sklearn.linear_model.LinearRegression', 'best_estimator': 'LinearRegression(fit_intercept=False)', 'best_params': \"{'copy_X': True, 'fit_intercept': False}\", 'mean_absolute_error': '13.793884123070569', 'mean_squared_error': '919.2712290746942', 'root_mean_squared_error': '30.319485963233188', 'R2 score': '0.4362616178552008'}\n",
      "Execution time for 'test' took 0.005297660827636719 seconds\n",
      "{'model': 'sklearn.linear_model.LinearRegression', 'best_estimator': 'LinearRegression(fit_intercept=False)', 'best_params': \"{'copy_X': True, 'fit_intercept': False}\", 'mean_absolute_error': '22.36566855338509', 'mean_squared_error': '3472.42827874613', 'root_mean_squared_error': '58.927313520523995', 'R2 score': '0.2854374176801193'}\n",
      "Execution time for 'test' took 0.006480693817138672 seconds\n",
      "{'model': 'sklearn.linear_model.LinearRegression', 'best_estimator': 'LinearRegression(fit_intercept=False)', 'best_params': \"{'copy_X': True, 'fit_intercept': False}\", 'mean_absolute_error': '44.124486237666346', 'mean_squared_error': '48074.144801765164', 'root_mean_squared_error': '219.2581692931079', 'R2 score': '0.0005137550331617557'}\n",
      "Execution time for 'test' took 0.006883144378662109 seconds\n",
      "{'model': 'sklearn.linear_model.LinearRegression', 'best_estimator': 'LinearRegression(fit_intercept=False)', 'best_params': \"{'copy_X': True, 'fit_intercept': False}\", 'mean_absolute_error': '27.687623106081112', 'mean_squared_error': '8107.611504912442', 'root_mean_squared_error': '90.04227620908104', 'R2 score': '-2.7472839650390584'}\n",
      "Execution time for 'test' took 0.0064241886138916016 seconds\n",
      "{'model': 'sklearn.linear_model.LinearRegression', 'best_estimator': 'LinearRegression(fit_intercept=False)', 'best_params': \"{'copy_X': True, 'fit_intercept': False}\", 'mean_absolute_error': '30.818334621451505', 'mean_squared_error': '7895.444228671881', 'root_mean_squared_error': '88.85631226126752', 'R2 score': '0.44866265278476003'}\n"
     ]
    }
   ],
   "source": [
    "from labs.lab_3.linear_regression import LeastSquaresLinearRegressionModel\n",
    "\n",
    "regressor = LeastSquaresLinearRegressionModel()\n",
    "for sample in dataframe.train_samples:\n",
    "    regressor.train(x_train=sample.independent_variables, y_train=sample.dependent_variables)\n",
    "\n",
    "for sample in dataframe.test_samples:\n",
    "    regressor.test(x_test=sample.independent_variables, y_test=sample.dependent_variables)\n",
    "    print(regressor.get_info())"
   ],
   "metadata": {
    "collapsed": false,
    "ExecuteTime": {
     "start_time": "2023-11-24T18:41:51.503601Z",
     "end_time": "2023-11-24T18:42:36.507222Z"
    }
   }
  },
  {
   "cell_type": "code",
   "execution_count": 3,
   "outputs": [
    {
     "name": "stdout",
     "output_type": "stream",
     "text": [
      "{'model': 'sklearn.linear_model.LinearRegression', 'best_estimator': 'LinearRegression(fit_intercept=False)', 'best_params': \"{'copy_X': True, 'fit_intercept': False}\", 'mean_absolute_error': '30.818334621451505', 'mean_squared_error': '7895.444228671881', 'root_mean_squared_error': '88.85631226126752', 'R2 score': '0.44866265278476003'}\n"
     ]
    }
   ],
   "source": [
    "print(regressor.get_info())"
   ],
   "metadata": {
    "collapsed": false,
    "ExecuteTime": {
     "start_time": "2023-11-24T18:43:11.680751Z",
     "end_time": "2023-11-24T18:43:11.722926Z"
    }
   }
  }
 ],
 "metadata": {
  "kernelspec": {
   "display_name": "Python 3",
   "language": "python",
   "name": "python3"
  },
  "language_info": {
   "codemirror_mode": {
    "name": "ipython",
    "version": 2
   },
   "file_extension": ".py",
   "mimetype": "text/x-python",
   "name": "python",
   "nbconvert_exporter": "python",
   "pygments_lexer": "ipython2",
   "version": "2.7.6"
  }
 },
 "nbformat": 4,
 "nbformat_minor": 0
}
