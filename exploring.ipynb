{
 "cells": [
  {
   "cell_type": "code",
   "execution_count": 4,
   "outputs": [
    {
     "name": "stdout",
     "output_type": "stream",
     "text": [
      "/home/mick/IdeaProjects/DataAnalysisLabs\n"
     ]
    }
   ],
   "source": [
    "import os\n",
    "\n",
    "print(os.getcwd())"
   ],
   "metadata": {
    "collapsed": false,
    "ExecuteTime": {
     "start_time": "2023-11-23T23:16:21.202287Z",
     "end_time": "2023-11-23T23:16:21.246939Z"
    }
   }
  },
  {
   "cell_type": "code",
   "execution_count": 5,
   "metadata": {
    "collapsed": true,
    "ExecuteTime": {
     "start_time": "2023-11-23T23:16:21.246302Z",
     "end_time": "2023-11-23T23:16:39.261859Z"
    }
   },
   "outputs": [
    {
     "name": "stderr",
     "output_type": "stream",
     "text": [
      "/home/mick/IdeaProjects/DataAnalysisLabs/venv/lib/python3.10/site-packages/sklearn/base.py:458: UserWarning: X has feature names, but LinearRegression was fitted without feature names\n",
      "  warnings.warn(\n"
     ]
    },
    {
     "name": "stdout",
     "output_type": "stream",
     "text": [
      "Variant 1:  76.03339326813634\n"
     ]
    },
    {
     "name": "stderr",
     "output_type": "stream",
     "text": [
      "/home/mick/IdeaProjects/DataAnalysisLabs/venv/lib/python3.10/site-packages/sklearn/base.py:458: UserWarning: X has feature names, but LinearRegression was fitted without feature names\n",
      "  warnings.warn(\n"
     ]
    },
    {
     "name": "stdout",
     "output_type": "stream",
     "text": [
      "Variant 2:  69.47673578082696\n"
     ]
    },
    {
     "name": "stderr",
     "output_type": "stream",
     "text": [
      "/home/mick/IdeaProjects/DataAnalysisLabs/venv/lib/python3.10/site-packages/sklearn/base.py:458: UserWarning: X has feature names, but LinearRegression was fitted without feature names\n",
      "  warnings.warn(\n"
     ]
    },
    {
     "name": "stdout",
     "output_type": "stream",
     "text": [
      "Variant 3:  65.81800233065641\n"
     ]
    },
    {
     "name": "stderr",
     "output_type": "stream",
     "text": [
      "/home/mick/IdeaProjects/DataAnalysisLabs/venv/lib/python3.10/site-packages/sklearn/base.py:458: UserWarning: X has feature names, but LinearRegression was fitted without feature names\n",
      "  warnings.warn(\n"
     ]
    },
    {
     "name": "stdout",
     "output_type": "stream",
     "text": [
      "Variant 4:  74.2346868679808\n"
     ]
    },
    {
     "name": "stderr",
     "output_type": "stream",
     "text": [
      "/home/mick/IdeaProjects/DataAnalysisLabs/venv/lib/python3.10/site-packages/sklearn/base.py:458: UserWarning: X has feature names, but LinearRegression was fitted without feature names\n",
      "  warnings.warn(\n"
     ]
    },
    {
     "name": "stdout",
     "output_type": "stream",
     "text": [
      "Variant 5:  88.85623287053771\n",
      "Variant overall:  69.00928537125812\n"
     ]
    },
    {
     "name": "stderr",
     "output_type": "stream",
     "text": [
      "/home/mick/IdeaProjects/DataAnalysisLabs/venv/lib/python3.10/site-packages/sklearn/base.py:458: UserWarning: X has feature names, but LinearRegression was fitted without feature names\n",
      "  warnings.warn(\n"
     ]
    }
   ],
   "source": [
    "import pandas as pd\n",
    "import numpy as np\n",
    "from sklearn.metrics import mean_squared_error\n",
    "from math import sqrt\n",
    "from sklearn.model_selection import cross_val_score\n",
    "\n",
    "training_files: list[str] = ['Features_Variant_1.csv', 'Features_Variant_2.csv', 'Features_Variant_3.csv',\n",
    "                             'Features_Variant_4.csv', 'Features_Variant_5.csv']\n",
    "PATH_TRAIN: str = \"data-in/lab_3/Dataset/Training/\"\n",
    "PATH_TEST: str = \"data-in/lab_3/Dataset/Testing/TestSet/\"\n",
    "\n",
    "# Training sets\n",
    "combined_train: pd.DataFrame = pd.concat(\n",
    "    [pd.read_csv(PATH_TRAIN + f, index_col=False, header=None) for f in training_files], sort=False)\n",
    "\n",
    "X_train_all = combined_train.iloc[:, :-1]\n",
    "y_train_all = combined_train.iloc[:, -1:]\n",
    "\n",
    "original_X_train_list = []\n",
    "y_train_list = []\n",
    "\n",
    "for i in range(5):\n",
    "    original_X_train_list.append(pd.read_csv(PATH_TRAIN + training_files[i], index_col=False, header=None).iloc[:, :-1])\n",
    "    y_train_list.append(pd.read_csv(PATH_TRAIN + training_files[i], index_col=False, header=None).iloc[:, -1:])\n",
    "\n",
    "original_X_train_list.append(X_train_all)\n",
    "y_train_list.append(y_train_all)\n",
    "\n",
    "# Testing sets\n",
    "\n",
    "test_files = ['Test_Case_1.csv', 'Test_Case_2.csv', 'Test_Case_3.csv',\n",
    "              'Test_Case_4.csv', 'Test_Case_5.csv', 'Test_Case_5.csv',\n",
    "              'Test_Case_6.csv', 'Test_Case_7.csv', 'Test_Case_8.csv',\n",
    "              'Test_Case_9.csv', 'Test_Case_10.csv']\n",
    "\n",
    "for f in test_files:\n",
    "    test = pd.concat([pd.read_csv(PATH_TEST + f)])\n",
    "X_test = test.iloc[:, :-1]\n",
    "y_test = test.iloc[:, -1:]\n",
    "\n",
    "X_train_list = original_X_train_list.copy()\n",
    "# Grid Search (?)\n",
    "# used the orinignal x training instances instead of the modifies ones\n",
    "def display_scores(scores):\n",
    "    print(\"Scores:\", scores)\n",
    "    print(\"Mean:\", scores.mean())\n",
    "    print(\"Standard deviation:\", scores.std())\n",
    "\n",
    "\n",
    "def grid_search(model):\n",
    "    for i in range(6):\n",
    "        scores = cross_val_score(model, original_X_train_list[i], y_train_list[i],\n",
    "                                 scoring=\"neg_mean_squared_error\", cv=10)\n",
    "        rmse_scores = np.sqrt(-scores)\n",
    "        if i == 5:\n",
    "            print(\"Variant overall: \")\n",
    "        else:\n",
    "            print(\"Variant {0}: \".format(i + 1))\n",
    "        display_scores(rmse_scores)\n",
    "\n",
    "\n",
    "from sklearn.linear_model import LinearRegression\n",
    "\n",
    "lin_reg = LinearRegression()\n",
    "for i in range(6):\n",
    "    lin_reg.fit(X_train_list[i], y_train_list[i])\n",
    "\n",
    "    rms = sqrt(mean_squared_error(y_test, lin_reg.predict(X_test)))\n",
    "    if i == 5:\n",
    "        print(\"Variant overall: \", rms)\n",
    "    else:\n",
    "        print(\"Variant {0}: \".format(i + 1), rms)"
   ]
  },
  {
   "cell_type": "code",
   "execution_count": 19,
   "outputs": [
    {
     "name": "stdout",
     "output_type": "stream",
     "text": [
      "40948 99\n"
     ]
    },
    {
     "data": {
      "text/plain": "   Page Popularity/likes  Page Checkings  Page talking about  Page Category  \\\n0                 161455               0                5978              4   \n1                  92385              88               34785             70   \n2                 395272               0                3406             17   \n3                4349418               0              614043              9   \n4               22899301               1             2454921              2   \n\n   Derived - 5  Derived - 6  Derived - 7  Derived - 8  Derived - 9  \\\n0          3.0         75.0    22.714286         15.0    23.389340   \n1          0.0          0.0     0.000000          0.0     0.000000   \n2          0.0         22.0     4.000000          1.0     6.599663   \n3          0.0        958.0    65.974194         24.0   126.960748   \n4          0.0       2526.0   958.181818        618.0   742.114157   \n\n   Derived - 10  ...  Post published weekday - 5  Post published weekday - 6  \\\n0           3.0  ...                           1                           0   \n1           0.0  ...                           0                           0   \n2           0.0  ...                           0                           1   \n3           0.0  ...                           0                           1   \n4           0.0  ...                           0                           0   \n\n   Base DateTime weekday - 0  Base DateTime weekday - 1  \\\n0                          0                          0   \n1                          0                          0   \n2                          1                          0   \n3                          1                          0   \n4                          0                          1   \n\n   Base DateTime weekday - 2  Base DateTime weekday - 3  \\\n0                          0                          0   \n1                          0                          0   \n2                          0                          0   \n3                          0                          0   \n4                          0                          0   \n\n   Base DateTime weekday - 4  Base DateTime weekday - 5  \\\n0                          0                          0   \n1                          0                          0   \n2                          0                          0   \n3                          0                          0   \n4                          0                          0   \n\n   Base DateTime weekday - 6  Target Variable  \n0                          1                2  \n1                          1                0  \n2                          0                0  \n3                          0                0  \n4                          0              112  \n\n[5 rows x 54 columns]",
      "text/html": "<div>\n<style scoped>\n    .dataframe tbody tr th:only-of-type {\n        vertical-align: middle;\n    }\n\n    .dataframe tbody tr th {\n        vertical-align: top;\n    }\n\n    .dataframe thead th {\n        text-align: right;\n    }\n</style>\n<table border=\"1\" class=\"dataframe\">\n  <thead>\n    <tr style=\"text-align: right;\">\n      <th></th>\n      <th>Page Popularity/likes</th>\n      <th>Page Checkings</th>\n      <th>Page talking about</th>\n      <th>Page Category</th>\n      <th>Derived - 5</th>\n      <th>Derived - 6</th>\n      <th>Derived - 7</th>\n      <th>Derived - 8</th>\n      <th>Derived - 9</th>\n      <th>Derived - 10</th>\n      <th>...</th>\n      <th>Post published weekday - 5</th>\n      <th>Post published weekday - 6</th>\n      <th>Base DateTime weekday - 0</th>\n      <th>Base DateTime weekday - 1</th>\n      <th>Base DateTime weekday - 2</th>\n      <th>Base DateTime weekday - 3</th>\n      <th>Base DateTime weekday - 4</th>\n      <th>Base DateTime weekday - 5</th>\n      <th>Base DateTime weekday - 6</th>\n      <th>Target Variable</th>\n    </tr>\n  </thead>\n  <tbody>\n    <tr>\n      <th>0</th>\n      <td>161455</td>\n      <td>0</td>\n      <td>5978</td>\n      <td>4</td>\n      <td>3.0</td>\n      <td>75.0</td>\n      <td>22.714286</td>\n      <td>15.0</td>\n      <td>23.389340</td>\n      <td>3.0</td>\n      <td>...</td>\n      <td>1</td>\n      <td>0</td>\n      <td>0</td>\n      <td>0</td>\n      <td>0</td>\n      <td>0</td>\n      <td>0</td>\n      <td>0</td>\n      <td>1</td>\n      <td>2</td>\n    </tr>\n    <tr>\n      <th>1</th>\n      <td>92385</td>\n      <td>88</td>\n      <td>34785</td>\n      <td>70</td>\n      <td>0.0</td>\n      <td>0.0</td>\n      <td>0.000000</td>\n      <td>0.0</td>\n      <td>0.000000</td>\n      <td>0.0</td>\n      <td>...</td>\n      <td>0</td>\n      <td>0</td>\n      <td>0</td>\n      <td>0</td>\n      <td>0</td>\n      <td>0</td>\n      <td>0</td>\n      <td>0</td>\n      <td>1</td>\n      <td>0</td>\n    </tr>\n    <tr>\n      <th>2</th>\n      <td>395272</td>\n      <td>0</td>\n      <td>3406</td>\n      <td>17</td>\n      <td>0.0</td>\n      <td>22.0</td>\n      <td>4.000000</td>\n      <td>1.0</td>\n      <td>6.599663</td>\n      <td>0.0</td>\n      <td>...</td>\n      <td>0</td>\n      <td>1</td>\n      <td>1</td>\n      <td>0</td>\n      <td>0</td>\n      <td>0</td>\n      <td>0</td>\n      <td>0</td>\n      <td>0</td>\n      <td>0</td>\n    </tr>\n    <tr>\n      <th>3</th>\n      <td>4349418</td>\n      <td>0</td>\n      <td>614043</td>\n      <td>9</td>\n      <td>0.0</td>\n      <td>958.0</td>\n      <td>65.974194</td>\n      <td>24.0</td>\n      <td>126.960748</td>\n      <td>0.0</td>\n      <td>...</td>\n      <td>0</td>\n      <td>1</td>\n      <td>1</td>\n      <td>0</td>\n      <td>0</td>\n      <td>0</td>\n      <td>0</td>\n      <td>0</td>\n      <td>0</td>\n      <td>0</td>\n    </tr>\n    <tr>\n      <th>4</th>\n      <td>22899301</td>\n      <td>1</td>\n      <td>2454921</td>\n      <td>2</td>\n      <td>0.0</td>\n      <td>2526.0</td>\n      <td>958.181818</td>\n      <td>618.0</td>\n      <td>742.114157</td>\n      <td>0.0</td>\n      <td>...</td>\n      <td>0</td>\n      <td>0</td>\n      <td>0</td>\n      <td>1</td>\n      <td>0</td>\n      <td>0</td>\n      <td>0</td>\n      <td>0</td>\n      <td>0</td>\n      <td>112</td>\n    </tr>\n  </tbody>\n</table>\n<p>5 rows × 54 columns</p>\n</div>"
     },
     "execution_count": 19,
     "metadata": {},
     "output_type": "execute_result"
    }
   ],
   "source": [
    "from labs.lab_3.util.constants import VARIABLE_NAMES\n",
    "import pandas as pd\n",
    "import numpy as np\n",
    "from sklearn.metrics import mean_squared_error\n",
    "from math import sqrt\n",
    "from sklearn.model_selection import cross_val_score\n",
    "\n",
    "training_files: list[str] = ['Features_Variant_1.csv', 'Features_Variant_2.csv', 'Features_Variant_3.csv',\n",
    "                             'Features_Variant_4.csv', 'Features_Variant_5.csv']\n",
    "PATH_TRAIN: str = \"data-in/lab_3/Dataset/Training/\"\n",
    "PATH_TEST: str = \"data-in/lab_3/Dataset/Testing/TestSet/\"\n",
    "\n",
    "train_df = pd.read_csv(PATH_TRAIN + training_files[0])\n",
    "train_df.columns = VARIABLE_NAMES\n",
    "\n",
    "test_df = pd.read_csv(PATH_TEST + \"Test_Case_1.csv\")\n",
    "test_df.columns = VARIABLE_NAMES\n",
    "\n",
    "print(len(train_df), len(test_df))\n",
    "test_df.head()"
   ],
   "metadata": {
    "collapsed": false,
    "ExecuteTime": {
     "start_time": "2023-11-23T23:21:01.183139Z",
     "end_time": "2023-11-23T23:21:01.444627Z"
    }
   }
  },
  {
   "cell_type": "code",
   "execution_count": 20,
   "outputs": [
    {
     "name": "stdout",
     "output_type": "stream",
     "text": [
      "40948 40948\n"
     ]
    }
   ],
   "source": [
    "x_train, y_train = train_df.drop(columns=\"Target Variable\", inplace=False), train_df[\"Target Variable\"]\n",
    "print(len(x_train), len(y_train))"
   ],
   "metadata": {
    "collapsed": false,
    "ExecuteTime": {
     "start_time": "2023-11-23T23:21:01.448055Z",
     "end_time": "2023-11-23T23:21:01.590477Z"
    }
   }
  },
  {
   "cell_type": "code",
   "execution_count": 21,
   "outputs": [
    {
     "name": "stdout",
     "output_type": "stream",
     "text": [
      "99 99\n"
     ]
    }
   ],
   "source": [
    "x_test, y_test = test_df.drop(columns=\"Target Variable\", inplace=False), test_df[\"Target Variable\"]\n",
    "print(len(x_test), len(y_test))"
   ],
   "metadata": {
    "collapsed": false,
    "ExecuteTime": {
     "start_time": "2023-11-23T23:21:01.490456Z",
     "end_time": "2023-11-23T23:21:01.601878Z"
    }
   }
  },
  {
   "cell_type": "code",
   "execution_count": 23,
   "outputs": [
    {
     "name": "stdout",
     "output_type": "stream",
     "text": [
      "40948 99\n"
     ]
    },
    {
     "data": {
      "text/plain": "array([[  11.29104478,    1.        ,    7.57462687, ...,    0.        ,\n           0.        ,    0.        ],\n       [  11.29104478,    1.        ,    7.57462687, ...,    0.        ,\n           0.        ,    0.        ],\n       [  11.29104478,    1.        ,    7.57462687, ...,    0.        ,\n           7.        ,   -3.        ],\n       ...,\n       [ 497.2       ,  269.        ,  283.72      , ...,  620.        ,\n         620.        ,  620.        ],\n       [ 497.2       ,  269.        ,  283.72      , ...,  189.        ,\n         588.        , -251.        ],\n       [ 497.2       ,  269.        ,  283.72      , ...,  263.        ,\n         960.        , -449.        ]])"
     },
     "execution_count": 23,
     "metadata": {},
     "output_type": "execute_result"
    }
   ],
   "source": [
    "from labs.lab_3.util.regression import select_features\n",
    "\n",
    "x_train, x_test = select_features(x_train, y_train, x_test)\n",
    "print(len(x_train), len(x_test))\n",
    "x_train"
   ],
   "metadata": {
    "collapsed": false,
    "ExecuteTime": {
     "start_time": "2023-11-23T23:22:42.994692Z",
     "end_time": "2023-11-23T23:22:43.024734Z"
    }
   }
  },
  {
   "cell_type": "code",
   "execution_count": 32,
   "outputs": [
    {
     "data": {
      "text/plain": "['Target Variable',\n 'CC2',\n 'CC5',\n 'Derived - 12',\n 'CC4',\n 'Derived - 7',\n 'Derived - 22',\n 'CC1',\n 'Derived - 8',\n 'Derived - 23']"
     },
     "execution_count": 32,
     "metadata": {},
     "output_type": "execute_result"
    }
   ],
   "source": [],
   "metadata": {
    "collapsed": false,
    "ExecuteTime": {
     "start_time": "2023-11-23T23:36:25.246848Z",
     "end_time": "2023-11-23T23:36:25.506614Z"
    }
   }
  },
  {
   "cell_type": "code",
   "execution_count": null,
   "outputs": [
    {
     "name": "stderr",
     "output_type": "stream",
     "text": [
      "/home/mick/IdeaProjects/DataAnalysisLabs/venv/lib/python3.10/site-packages/sklearn/model_selection/_split.py:737: UserWarning: The least populated class in y has only 1 members, which is less than n_splits=10.\n",
      "  warnings.warn(\n",
      "/home/mick/IdeaProjects/DataAnalysisLabs/venv/lib/python3.10/site-packages/sklearn/model_selection/_split.py:737: UserWarning: The least populated class in y has only 1 members, which is less than n_splits=10.\n",
      "  warnings.warn(\n",
      "/home/mick/IdeaProjects/DataAnalysisLabs/venv/lib/python3.10/site-packages/sklearn/model_selection/_split.py:737: UserWarning: The least populated class in y has only 1 members, which is less than n_splits=10.\n",
      "  warnings.warn(\n",
      "/home/mick/IdeaProjects/DataAnalysisLabs/venv/lib/python3.10/site-packages/sklearn/linear_model/_sag.py:350: ConvergenceWarning: The max_iter was reached which means the coef_ did not converge\n",
      "  warnings.warn(\n",
      "/home/mick/IdeaProjects/DataAnalysisLabs/venv/lib/python3.10/site-packages/sklearn/linear_model/_sag.py:350: ConvergenceWarning: The max_iter was reached which means the coef_ did not converge\n",
      "  warnings.warn(\n",
      "/home/mick/IdeaProjects/DataAnalysisLabs/venv/lib/python3.10/site-packages/sklearn/linear_model/_sag.py:350: ConvergenceWarning: The max_iter was reached which means the coef_ did not converge\n",
      "  warnings.warn(\n",
      "/home/mick/IdeaProjects/DataAnalysisLabs/venv/lib/python3.10/site-packages/sklearn/linear_model/_sag.py:350: ConvergenceWarning: The max_iter was reached which means the coef_ did not converge\n",
      "  warnings.warn(\n",
      "/home/mick/IdeaProjects/DataAnalysisLabs/venv/lib/python3.10/site-packages/sklearn/linear_model/_sag.py:350: ConvergenceWarning: The max_iter was reached which means the coef_ did not converge\n",
      "  warnings.warn(\n",
      "/home/mick/IdeaProjects/DataAnalysisLabs/venv/lib/python3.10/site-packages/sklearn/linear_model/_sag.py:350: ConvergenceWarning: The max_iter was reached which means the coef_ did not converge\n",
      "  warnings.warn(\n",
      "/home/mick/IdeaProjects/DataAnalysisLabs/venv/lib/python3.10/site-packages/sklearn/linear_model/_sag.py:350: ConvergenceWarning: The max_iter was reached which means the coef_ did not converge\n",
      "  warnings.warn(\n",
      "/home/mick/IdeaProjects/DataAnalysisLabs/venv/lib/python3.10/site-packages/sklearn/linear_model/_sag.py:350: ConvergenceWarning: The max_iter was reached which means the coef_ did not converge\n",
      "  warnings.warn(\n",
      "/home/mick/IdeaProjects/DataAnalysisLabs/venv/lib/python3.10/site-packages/sklearn/linear_model/_sag.py:350: ConvergenceWarning: The max_iter was reached which means the coef_ did not converge\n",
      "  warnings.warn(\n",
      "/home/mick/IdeaProjects/DataAnalysisLabs/venv/lib/python3.10/site-packages/sklearn/linear_model/_sag.py:350: ConvergenceWarning: The max_iter was reached which means the coef_ did not converge\n",
      "  warnings.warn(\n",
      "/home/mick/IdeaProjects/DataAnalysisLabs/venv/lib/python3.10/site-packages/sklearn/linear_model/_sag.py:350: ConvergenceWarning: The max_iter was reached which means the coef_ did not converge\n",
      "  warnings.warn(\n",
      "/home/mick/IdeaProjects/DataAnalysisLabs/venv/lib/python3.10/site-packages/sklearn/linear_model/_sag.py:350: ConvergenceWarning: The max_iter was reached which means the coef_ did not converge\n",
      "  warnings.warn(\n",
      "/home/mick/IdeaProjects/DataAnalysisLabs/venv/lib/python3.10/site-packages/sklearn/linear_model/_sag.py:350: ConvergenceWarning: The max_iter was reached which means the coef_ did not converge\n",
      "  warnings.warn(\n",
      "/home/mick/IdeaProjects/DataAnalysisLabs/venv/lib/python3.10/site-packages/sklearn/linear_model/_sag.py:350: ConvergenceWarning: The max_iter was reached which means the coef_ did not converge\n",
      "  warnings.warn(\n",
      "/home/mick/IdeaProjects/DataAnalysisLabs/venv/lib/python3.10/site-packages/sklearn/linear_model/_sag.py:350: ConvergenceWarning: The max_iter was reached which means the coef_ did not converge\n",
      "  warnings.warn(\n",
      "/home/mick/IdeaProjects/DataAnalysisLabs/venv/lib/python3.10/site-packages/sklearn/linear_model/_sag.py:350: ConvergenceWarning: The max_iter was reached which means the coef_ did not converge\n",
      "  warnings.warn(\n",
      "/home/mick/IdeaProjects/DataAnalysisLabs/venv/lib/python3.10/site-packages/sklearn/linear_model/_sag.py:350: ConvergenceWarning: The max_iter was reached which means the coef_ did not converge\n",
      "  warnings.warn(\n",
      "/home/mick/IdeaProjects/DataAnalysisLabs/venv/lib/python3.10/site-packages/sklearn/linear_model/_sag.py:350: ConvergenceWarning: The max_iter was reached which means the coef_ did not converge\n",
      "  warnings.warn(\n",
      "/home/mick/IdeaProjects/DataAnalysisLabs/venv/lib/python3.10/site-packages/sklearn/linear_model/_sag.py:350: ConvergenceWarning: The max_iter was reached which means the coef_ did not converge\n",
      "  warnings.warn(\n",
      "/home/mick/IdeaProjects/DataAnalysisLabs/venv/lib/python3.10/site-packages/sklearn/linear_model/_sag.py:350: ConvergenceWarning: The max_iter was reached which means the coef_ did not converge\n",
      "  warnings.warn(\n",
      "/home/mick/IdeaProjects/DataAnalysisLabs/venv/lib/python3.10/site-packages/sklearn/linear_model/_sag.py:350: ConvergenceWarning: The max_iter was reached which means the coef_ did not converge\n",
      "  warnings.warn(\n",
      "/home/mick/IdeaProjects/DataAnalysisLabs/venv/lib/python3.10/site-packages/sklearn/linear_model/_sag.py:350: ConvergenceWarning: The max_iter was reached which means the coef_ did not converge\n",
      "  warnings.warn(\n",
      "/home/mick/IdeaProjects/DataAnalysisLabs/venv/lib/python3.10/site-packages/sklearn/linear_model/_sag.py:350: ConvergenceWarning: The max_iter was reached which means the coef_ did not converge\n",
      "  warnings.warn(\n",
      "/home/mick/IdeaProjects/DataAnalysisLabs/venv/lib/python3.10/site-packages/sklearn/linear_model/_sag.py:350: ConvergenceWarning: The max_iter was reached which means the coef_ did not converge\n",
      "  warnings.warn(\n",
      "/home/mick/IdeaProjects/DataAnalysisLabs/venv/lib/python3.10/site-packages/sklearn/linear_model/_sag.py:350: ConvergenceWarning: The max_iter was reached which means the coef_ did not converge\n",
      "  warnings.warn(\n",
      "/home/mick/IdeaProjects/DataAnalysisLabs/venv/lib/python3.10/site-packages/sklearn/linear_model/_sag.py:350: ConvergenceWarning: The max_iter was reached which means the coef_ did not converge\n",
      "  warnings.warn(\n",
      "/home/mick/IdeaProjects/DataAnalysisLabs/venv/lib/python3.10/site-packages/sklearn/linear_model/_sag.py:350: ConvergenceWarning: The max_iter was reached which means the coef_ did not converge\n",
      "  warnings.warn(\n",
      "/home/mick/IdeaProjects/DataAnalysisLabs/venv/lib/python3.10/site-packages/sklearn/linear_model/_sag.py:350: ConvergenceWarning: The max_iter was reached which means the coef_ did not converge\n",
      "  warnings.warn(\n",
      "/home/mick/IdeaProjects/DataAnalysisLabs/venv/lib/python3.10/site-packages/sklearn/linear_model/_sag.py:350: ConvergenceWarning: The max_iter was reached which means the coef_ did not converge\n",
      "  warnings.warn(\n",
      "/home/mick/IdeaProjects/DataAnalysisLabs/venv/lib/python3.10/site-packages/sklearn/linear_model/_sag.py:350: ConvergenceWarning: The max_iter was reached which means the coef_ did not converge\n",
      "  warnings.warn(\n",
      "/home/mick/IdeaProjects/DataAnalysisLabs/venv/lib/python3.10/site-packages/sklearn/linear_model/_sag.py:350: ConvergenceWarning: The max_iter was reached which means the coef_ did not converge\n",
      "  warnings.warn(\n",
      "/home/mick/IdeaProjects/DataAnalysisLabs/venv/lib/python3.10/site-packages/sklearn/linear_model/_sag.py:350: ConvergenceWarning: The max_iter was reached which means the coef_ did not converge\n",
      "  warnings.warn(\n",
      "/home/mick/IdeaProjects/DataAnalysisLabs/venv/lib/python3.10/site-packages/sklearn/linear_model/_sag.py:350: ConvergenceWarning: The max_iter was reached which means the coef_ did not converge\n",
      "  warnings.warn(\n"
     ]
    }
   ],
   "source": [
    "from labs.lab_3.linear_regression.LinearRegressionModel import RidgeLinearRegressionModelModel\n",
    "from labs.lab_3.util.RegressionModelApi import RegressionModelApi\n",
    "from typing import List\n",
    "from labs.lab_3.checker import check_model\n",
    "\n",
    "models: List[RegressionModelApi] = [RidgeLinearRegressionModelModel()]\n",
    "for model in models:\n",
    "    check_model(model, train_dataframe=x_train, train_target=y_train, test_dataframe=x_test, test_target=y_test)"
   ],
   "metadata": {
    "collapsed": false,
    "pycharm": {
     "is_executing": true
    }
   }
  }
 ],
 "metadata": {
  "kernelspec": {
   "display_name": "Python 3",
   "language": "python",
   "name": "python3"
  },
  "language_info": {
   "codemirror_mode": {
    "name": "ipython",
    "version": 2
   },
   "file_extension": ".py",
   "mimetype": "text/x-python",
   "name": "python",
   "nbconvert_exporter": "python",
   "pygments_lexer": "ipython2",
   "version": "2.7.6"
  }
 },
 "nbformat": 4,
 "nbformat_minor": 0
}
