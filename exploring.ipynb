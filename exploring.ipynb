{
 "cells": [
  {
   "cell_type": "code",
   "execution_count": 16,
   "outputs": [
    {
     "name": "stdout",
     "output_type": "stream",
     "text": [
      "/home/mick/IdeaProjects/DataAnalysisLabs\n"
     ]
    }
   ],
   "source": [
    "import os\n",
    "\n",
    "print(os.getcwd())"
   ],
   "metadata": {
    "collapsed": false,
    "ExecuteTime": {
     "start_time": "2023-11-17T22:00:31.069809Z",
     "end_time": "2023-11-17T22:00:31.077122Z"
    }
   }
  },
  {
   "cell_type": "code",
   "execution_count": 17,
   "metadata": {
    "collapsed": true,
    "ExecuteTime": {
     "start_time": "2023-11-17T22:00:48.447466Z",
     "end_time": "2023-11-17T22:01:03.113993Z"
    }
   },
   "outputs": [
    {
     "name": "stderr",
     "output_type": "stream",
     "text": [
      "/home/mick/IdeaProjects/DataAnalysisLabs/venv/lib/python3.10/site-packages/sklearn/base.py:458: UserWarning: X has feature names, but LinearRegression was fitted without feature names\n",
      "  warnings.warn(\n"
     ]
    },
    {
     "name": "stdout",
     "output_type": "stream",
     "text": [
      "Variant 1:  76.03339326813634\n"
     ]
    },
    {
     "name": "stderr",
     "output_type": "stream",
     "text": [
      "/home/mick/IdeaProjects/DataAnalysisLabs/venv/lib/python3.10/site-packages/sklearn/base.py:458: UserWarning: X has feature names, but LinearRegression was fitted without feature names\n",
      "  warnings.warn(\n"
     ]
    },
    {
     "name": "stdout",
     "output_type": "stream",
     "text": [
      "Variant 2:  69.47673578082696\n"
     ]
    },
    {
     "name": "stderr",
     "output_type": "stream",
     "text": [
      "/home/mick/IdeaProjects/DataAnalysisLabs/venv/lib/python3.10/site-packages/sklearn/base.py:458: UserWarning: X has feature names, but LinearRegression was fitted without feature names\n",
      "  warnings.warn(\n"
     ]
    },
    {
     "name": "stdout",
     "output_type": "stream",
     "text": [
      "Variant 3:  65.81800233065641\n"
     ]
    },
    {
     "name": "stderr",
     "output_type": "stream",
     "text": [
      "/home/mick/IdeaProjects/DataAnalysisLabs/venv/lib/python3.10/site-packages/sklearn/base.py:458: UserWarning: X has feature names, but LinearRegression was fitted without feature names\n",
      "  warnings.warn(\n"
     ]
    },
    {
     "name": "stdout",
     "output_type": "stream",
     "text": [
      "Variant 4:  74.2346868679808\n"
     ]
    },
    {
     "name": "stderr",
     "output_type": "stream",
     "text": [
      "/home/mick/IdeaProjects/DataAnalysisLabs/venv/lib/python3.10/site-packages/sklearn/base.py:458: UserWarning: X has feature names, but LinearRegression was fitted without feature names\n",
      "  warnings.warn(\n"
     ]
    },
    {
     "name": "stdout",
     "output_type": "stream",
     "text": [
      "Variant 5:  88.85623287053771\n",
      "Variant overall:  69.00928537125812\n"
     ]
    },
    {
     "name": "stderr",
     "output_type": "stream",
     "text": [
      "/home/mick/IdeaProjects/DataAnalysisLabs/venv/lib/python3.10/site-packages/sklearn/base.py:458: UserWarning: X has feature names, but LinearRegression was fitted without feature names\n",
      "  warnings.warn(\n"
     ]
    }
   ],
   "source": [
    "import pandas as pd\n",
    "import numpy as np\n",
    "from sklearn.metrics import mean_squared_error\n",
    "from math import sqrt\n",
    "from sklearn.model_selection import cross_val_score\n",
    "\n",
    "training_files: list[str] = ['Features_Variant_1.csv', 'Features_Variant_2.csv', 'Features_Variant_3.csv',\n",
    "                             'Features_Variant_4.csv', 'Features_Variant_5.csv']\n",
    "PATH_TRAIN: str = \"data-in/lab_3/Dataset/Training/\"\n",
    "PATH_TEST: str = \"data-in/lab_3/Dataset/Testing/TestSet/\"\n",
    "\n",
    "# Training sets\n",
    "combined_train: pd.DataFrame = pd.concat(\n",
    "    [pd.read_csv(PATH_TRAIN + f, index_col=False, header=None) for f in training_files], sort=False)\n",
    "\n",
    "X_train_all = combined_train.iloc[:, :-1]\n",
    "y_train_all = combined_train.iloc[:, -1:]\n",
    "\n",
    "original_X_train_list = []\n",
    "y_train_list = []\n",
    "\n",
    "for i in range(5):\n",
    "    original_X_train_list.append(pd.read_csv(PATH_TRAIN + training_files[i], index_col=False, header=None).iloc[:, :-1])\n",
    "    y_train_list.append(pd.read_csv(PATH_TRAIN + training_files[i], index_col=False, header=None).iloc[:, -1:])\n",
    "\n",
    "original_X_train_list.append(X_train_all)\n",
    "y_train_list.append(y_train_all)\n",
    "\n",
    "# Testing sets\n",
    "\n",
    "test_files = ['Test_Case_1.csv', 'Test_Case_2.csv', 'Test_Case_3.csv',\n",
    "              'Test_Case_4.csv', 'Test_Case_5.csv', 'Test_Case_5.csv',\n",
    "              'Test_Case_6.csv', 'Test_Case_7.csv', 'Test_Case_8.csv',\n",
    "              'Test_Case_9.csv', 'Test_Case_10.csv']\n",
    "\n",
    "for f in test_files:\n",
    "    test = pd.concat([pd.read_csv(PATH_TEST + f)])\n",
    "X_test = test.iloc[:, :-1]\n",
    "y_test = test.iloc[:, -1:]\n",
    "\n",
    "X_train_list = original_X_train_list.copy()\n",
    "# Grid Search (?)\n",
    "# used the orinignal x training instances instead of the modifies ones\n",
    "def display_scores(scores):\n",
    "    print(\"Scores:\", scores)\n",
    "    print(\"Mean:\", scores.mean())\n",
    "    print(\"Standard deviation:\", scores.std())\n",
    "\n",
    "\n",
    "def grid_search(model):\n",
    "    for i in range(6):\n",
    "        scores = cross_val_score(model, original_X_train_list[i], y_train_list[i],\n",
    "                                 scoring=\"neg_mean_squared_error\", cv=10)\n",
    "        rmse_scores = np.sqrt(-scores)\n",
    "        if i == 5:\n",
    "            print(\"Variant overall: \")\n",
    "        else:\n",
    "            print(\"Variant {0}: \".format(i + 1))\n",
    "        display_scores(rmse_scores)\n",
    "\n",
    "\n",
    "from sklearn.linear_model import LinearRegression\n",
    "\n",
    "lin_reg = LinearRegression()\n",
    "for i in range(6):\n",
    "    lin_reg.fit(X_train_list[i], y_train_list[i])\n",
    "\n",
    "    rms = sqrt(mean_squared_error(y_test, lin_reg.predict(X_test)))\n",
    "    if i == 5:\n",
    "        print(\"Variant overall: \", rms)\n",
    "    else:\n",
    "        print(\"Variant {0}: \".format(i + 1), rms)"
   ]
  }
 ],
 "metadata": {
  "kernelspec": {
   "display_name": "Python 3",
   "language": "python",
   "name": "python3"
  },
  "language_info": {
   "codemirror_mode": {
    "name": "ipython",
    "version": 2
   },
   "file_extension": ".py",
   "mimetype": "text/x-python",
   "name": "python",
   "nbconvert_exporter": "python",
   "pygments_lexer": "ipython2",
   "version": "2.7.6"
  }
 },
 "nbformat": 4,
 "nbformat_minor": 0
}
